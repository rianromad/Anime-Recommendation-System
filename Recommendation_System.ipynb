{
  "cells": [
    {
      "cell_type": "markdown",
      "id": "1894536e-3d50-42f8-939a-a436271ed8da",
      "metadata": {
        "tags": [],
        "id": "1894536e-3d50-42f8-939a-a436271ed8da"
      },
      "source": [
        "# Sistem Rekomendasi Anime"
      ]
    },
    {
      "cell_type": "markdown",
      "id": "a29ac771-a8ff-43df-8427-1887b36ae313",
      "metadata": {
        "tags": [],
        "id": "a29ac771-a8ff-43df-8427-1887b36ae313"
      },
      "source": [
        "## Project Overview\n",
        "\n",
        "<img src=\"https://image.myanimelist.net/ui/5LYzTBVoS196gvYvw3zjwLgAvBFCaQ-G87EPlpMcd2s\" width=400/>\n",
        "\n",
        "Dewasa ini industri hiburan semakin berkembang, salah satunya ialah Anime. Anime diambil dari kata \"animation\" dalam bahasa Inggris merupakan animasi yang diproduksi di Jepang menggunakan teknologi komputer maupun manual dengan tangan. Anime mulai populer di kalangan masyarakat semenjak kehadiran Astro Boy karya Ozamu Tezuka pada tahun 1963. Hingga saat ini, anime sudah sangat berkembang dari segi grafis, musik maupun alur cerita yang lebih menarik. Sebuah data dari situs epicdope.com menampilkan 10 negara dengan jumlah peminat anime di tahun 2022. Negara di luar Jepang, yakni Amerika menempati posisi ke 2 dimana sebanyak 71.86% dari total penduduk telah menonton anime. \n",
        "\n",
        "<img src=\"https://user-images.githubusercontent.com/61647791/164499658-3477255a-911e-4714-9253-4403113714a1.png\" width=600 />\n",
        "\n",
        "Anime memiliki karakteristik yang umumnya bisa dilihat dari segi genre. Terdapat berbagai genre anime seperti horror, thriller, comedy, adventure dan sebagainya. Sebuah masalah muncul ketika pengguna ingin melihat anime dengan karakteristik sesuai dengan yang diinginkan, misalnya dari segi genre, rating, maupun tipe anime (movie, TV, OVA).  Oleh karena itu, muncul suatu ide untuk menerapkan sistem rekomendasi untuk memilih anime yang tepat sesuai keinginan pengguna. Terdapat beberapa manfaat apabila perusahaan streaming anime seperti <a href=\"https://www.crunchyroll.com/\">Crunchyroll</a> menerapkan sistem rekomendasi, misalnya dapat meningkatkan jumlah anime yang ditonton, menyediakan anime yang beragam, meningkatkan kepuasan pengguna, serta bisa memahami preferensi pengguna terkait anime yang diinginkan.\n",
        "\n",
        "## Business Understanding\n",
        "Berdasarkan pemaparan di atas, berikut merupakan permasalahan beserta tujuan dibuatnya sistem rekomendasi anime:\n",
        "\n",
        "### 1. Problem Statement\n",
        "- Bagaimana cara membuat sistem rekomendasi anime yang merekomendasikan pengguna berdasarkan genre anime?\n",
        "- Dengan menggunakan data rating yang dimiliki pengguna, bagaimana perusahaan jasa streaming dapat merekomendasikan anime yang belum pernah ditonton pengguna?\n",
        "\n",
        "### 2. Goals\n",
        "Untuk menjawab permasalahan tersebut dibuatlah sistem rekomendasi dengan tujuan sebagai berikut:\n",
        "- Menghasilkan rekomendasi anime sebanyak N buah kepada pengguna berdasarkan genre.\n",
        "- Menghasilkan beberapa rekomendasi anime yang sesuai dengan preferensi pengguna dan belum pernah ditonton.\n",
        "\n",
        "### 3. Solutions\n",
        "Untuk merealisasikan tujuan di atas dibuatlah dua jenis sistem sistem rekomendasi, yakni content based filtering dan collaborative filtering. Content based merupakan sistem akan merekomendasikan anime kepada pengguna berdasarkan karakteristik yang dimiliki anime, misalnya dari genre, penulis, maupun tipe anime (movie, TV, OVA). Di sisi lain, collaborative filtering merupakan sistem yang merekomendasikan anime yang belum pernah ditonton menggunakan data historis anime yang pernah ditonton sebelumnya. Dengan menggunakan kedua metode ini diharapkan dapat menghasilkan rekomendasi yang akurat sesuai dengan yang diinginkan pengguna. "
      ]
    },
    {
      "cell_type": "code",
      "source": [
        "!pip install kaggle"
      ],
      "metadata": {
        "colab": {
          "base_uri": "https://localhost:8080/"
        },
        "id": "UDUmH1oZ71W6",
        "outputId": "4117ebeb-5ed1-4ee6-bad2-6784f83ada81"
      },
      "id": "UDUmH1oZ71W6",
      "execution_count": null,
      "outputs": [
        {
          "output_type": "stream",
          "name": "stdout",
          "text": [
            "Requirement already satisfied: kaggle in /usr/local/lib/python3.7/dist-packages (1.5.12)\n",
            "Requirement already satisfied: python-dateutil in /usr/local/lib/python3.7/dist-packages (from kaggle) (2.8.2)\n",
            "Requirement already satisfied: tqdm in /usr/local/lib/python3.7/dist-packages (from kaggle) (4.64.0)\n",
            "Requirement already satisfied: six>=1.10 in /usr/local/lib/python3.7/dist-packages (from kaggle) (1.15.0)\n",
            "Requirement already satisfied: certifi in /usr/local/lib/python3.7/dist-packages (from kaggle) (2021.10.8)\n",
            "Requirement already satisfied: requests in /usr/local/lib/python3.7/dist-packages (from kaggle) (2.23.0)\n",
            "Requirement already satisfied: python-slugify in /usr/local/lib/python3.7/dist-packages (from kaggle) (6.1.1)\n",
            "Requirement already satisfied: urllib3 in /usr/local/lib/python3.7/dist-packages (from kaggle) (1.24.3)\n",
            "Requirement already satisfied: text-unidecode>=1.3 in /usr/local/lib/python3.7/dist-packages (from python-slugify->kaggle) (1.3)\n",
            "Requirement already satisfied: chardet<4,>=3.0.2 in /usr/local/lib/python3.7/dist-packages (from requests->kaggle) (3.0.4)\n",
            "Requirement already satisfied: idna<3,>=2.5 in /usr/local/lib/python3.7/dist-packages (from requests->kaggle) (2.10)\n"
          ]
        }
      ]
    },
    {
      "cell_type": "code",
      "source": [
        "from google.colab import files\n",
        "files.upload()"
      ],
      "metadata": {
        "colab": {
          "resources": {
            "http://localhost:8080/nbextensions/google.colab/files.js": {
              "data": "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",
              "ok": true,
              "headers": [
                [
                  "content-type",
                  "application/javascript"
                ]
              ],
              "status": 200,
              "status_text": "OK"
            }
          },
          "base_uri": "https://localhost:8080/",
          "height": 90
        },
        "id": "v3vF674s8MHi",
        "outputId": "62a86dde-4f89-4a37-c35b-a49a2500671a"
      },
      "id": "v3vF674s8MHi",
      "execution_count": null,
      "outputs": [
        {
          "output_type": "display_data",
          "data": {
            "text/plain": [
              "<IPython.core.display.HTML object>"
            ],
            "text/html": [
              "\n",
              "     <input type=\"file\" id=\"files-f52b12cb-52d3-45a9-a667-26f173265c6c\" name=\"files[]\" multiple disabled\n",
              "        style=\"border:none\" />\n",
              "     <output id=\"result-f52b12cb-52d3-45a9-a667-26f173265c6c\">\n",
              "      Upload widget is only available when the cell has been executed in the\n",
              "      current browser session. Please rerun this cell to enable.\n",
              "      </output>\n",
              "      <script src=\"/nbextensions/google.colab/files.js\"></script> "
            ]
          },
          "metadata": {}
        },
        {
          "output_type": "stream",
          "name": "stdout",
          "text": [
            "Saving kaggle.json to kaggle.json\n"
          ]
        },
        {
          "output_type": "execute_result",
          "data": {
            "text/plain": [
              "{'kaggle.json': b'{\"username\":\"rianromadhon\",\"key\":\"12c2f5646f5199c415e6e4b2de4d6998\"}'}"
            ]
          },
          "metadata": {},
          "execution_count": 2
        }
      ]
    },
    {
      "cell_type": "code",
      "source": [
        "!mkdir -p ~/.kaggle\n",
        "!cp kaggle.json ~/.kaggle/\n",
        "!chmod 600 ~/.kaggle/kaggle.json"
      ],
      "metadata": {
        "id": "COVx1IaU8TG1"
      },
      "id": "COVx1IaU8TG1",
      "execution_count": null,
      "outputs": []
    },
    {
      "cell_type": "code",
      "execution_count": null,
      "id": "5ed95835-9994-48a0-8fde-762b6ab59789",
      "metadata": {
        "colab": {
          "base_uri": "https://localhost:8080/"
        },
        "id": "5ed95835-9994-48a0-8fde-762b6ab59789",
        "outputId": "9fdd543e-e2c2-4c30-f200-59bd59e8a3c7"
      },
      "outputs": [
        {
          "output_type": "stream",
          "name": "stdout",
          "text": [
            "Downloading anime-recommendations-database.zip to /content\n",
            " 20% 5.00M/25.0M [00:00<00:00, 36.5MB/s]\n",
            "100% 25.0M/25.0M [00:00<00:00, 124MB/s] \n"
          ]
        }
      ],
      "source": [
        "#akses data dari kaggle\n",
        "!kaggle datasets download -d CooperUnion/anime-recommendations-database"
      ]
    },
    {
      "cell_type": "code",
      "execution_count": null,
      "id": "6ab3417e-34e2-40c4-a844-75abed07fb9b",
      "metadata": {
        "id": "6ab3417e-34e2-40c4-a844-75abed07fb9b"
      },
      "outputs": [],
      "source": [
        "#mengimpor library\n",
        "import pandas as pd\n",
        "import numpy as np\n",
        "import matplotlib.pyplot as plt\n",
        "import zipfile, os\n",
        "import collections\n",
        "from sklearn.feature_extraction.text import TfidfVectorizer \n",
        "from sklearn.metrics.pairwise import cosine_similarity\n",
        "\n",
        "import tensorflow as tf\n",
        "import keras\n",
        "from keras import layers\n",
        "tf.config.run_functions_eagerly(True)\n",
        "\n",
        "import warnings\n",
        "warnings.filterwarnings(\"ignore\")"
      ]
    },
    {
      "cell_type": "code",
      "execution_count": null,
      "id": "a8f5248b-17e0-410f-825a-b616b570f9e5",
      "metadata": {
        "id": "a8f5248b-17e0-410f-825a-b616b570f9e5"
      },
      "outputs": [],
      "source": [
        "#ekstrak file\n",
        "path = '/content/anime-recommendations-database.zip'\n",
        "zip_ref = zipfile.ZipFile(path, 'r')\n",
        "zip_ref.extractall()\n",
        "zip_ref.close()"
      ]
    },
    {
      "cell_type": "markdown",
      "id": "dd367992-2ea2-4809-85c8-ed19a1076b5c",
      "metadata": {
        "id": "dd367992-2ea2-4809-85c8-ed19a1076b5c"
      },
      "source": [
        "## Data Understanding\n",
        "\n",
        "Dataset yang digunakan diambil dari API <a href=\"https://myanimelist.net/\">myanimelist</a> dan terdiri dari 73,516 pengguna dan 12,294 anime. Dataset dapat diunduh melalui <a href=\"https://www.kaggle.com/datasets/CooperUnion/anime-recommendations-database\">situs kaggle ini</a>. Terdapat dua buah file data berformat csv, yakni anime.csv dan rating. Keduanya akan dibahas terpisah beserta eksplorasi data untuk masing-masing file.\n",
        "   "
      ]
    },
    {
      "cell_type": "markdown",
      "id": "a3985705-6d69-47cb-ac5d-3494d40ff6df",
      "metadata": {
        "id": "a3985705-6d69-47cb-ac5d-3494d40ff6df"
      },
      "source": [
        "### 1. Anime\n",
        "Dataset ini berisi beragam anime yang tersedia di situs myanimelist yang terdiri dari beberapa variabel, di antaranya:\n",
        "- anime_id = ID unik dari myanimelist.net untuk mengidentifikasi anime.\n",
        "- name = nama anime.\n",
        "- genre  = list genre dari anime.\n",
        "- type = jenis anime, apakah berupa movie, TV, OVA, dan sebagainya.\n",
        "- episodes = jumlah episode yang dimiliki, apabila bertipe movie maka hanya memiliki 1 episode.\n",
        "- rating = rata-rata rating anime dengan skala 1-10.\n",
        "- members  = jumlah member komunitas anime tersebut. \n",
        "\n",
        "#### Menamplikan 5 Data Teratas\n"
      ]
    },
    {
      "cell_type": "code",
      "execution_count": null,
      "id": "1e9899bc-19e9-489c-bb6a-58992312fcb1",
      "metadata": {
        "id": "1e9899bc-19e9-489c-bb6a-58992312fcb1",
        "outputId": "f4328260-364c-425a-990c-1a1b814dff65",
        "colab": {
          "base_uri": "https://localhost:8080/",
          "height": 207
        }
      },
      "outputs": [
        {
          "output_type": "execute_result",
          "data": {
            "text/plain": [
              "   anime_id                              name  \\\n",
              "0     32281                    Kimi no Na wa.   \n",
              "1      5114  Fullmetal Alchemist: Brotherhood   \n",
              "2     28977                          Gintama°   \n",
              "3      9253                       Steins;Gate   \n",
              "4      9969                     Gintama&#039;   \n",
              "\n",
              "                                               genre   type episodes  rating  \\\n",
              "0               Drama, Romance, School, Supernatural  Movie        1    9.37   \n",
              "1  Action, Adventure, Drama, Fantasy, Magic, Mili...     TV       64    9.26   \n",
              "2  Action, Comedy, Historical, Parody, Samurai, S...     TV       51    9.25   \n",
              "3                                   Sci-Fi, Thriller     TV       24    9.17   \n",
              "4  Action, Comedy, Historical, Parody, Samurai, S...     TV       51    9.16   \n",
              "\n",
              "   members  \n",
              "0   200630  \n",
              "1   793665  \n",
              "2   114262  \n",
              "3   673572  \n",
              "4   151266  "
            ],
            "text/html": [
              "\n",
              "  <div id=\"df-d81ea91b-d768-4b2a-8270-2639d8914eb5\">\n",
              "    <div class=\"colab-df-container\">\n",
              "      <div>\n",
              "<style scoped>\n",
              "    .dataframe tbody tr th:only-of-type {\n",
              "        vertical-align: middle;\n",
              "    }\n",
              "\n",
              "    .dataframe tbody tr th {\n",
              "        vertical-align: top;\n",
              "    }\n",
              "\n",
              "    .dataframe thead th {\n",
              "        text-align: right;\n",
              "    }\n",
              "</style>\n",
              "<table border=\"1\" class=\"dataframe\">\n",
              "  <thead>\n",
              "    <tr style=\"text-align: right;\">\n",
              "      <th></th>\n",
              "      <th>anime_id</th>\n",
              "      <th>name</th>\n",
              "      <th>genre</th>\n",
              "      <th>type</th>\n",
              "      <th>episodes</th>\n",
              "      <th>rating</th>\n",
              "      <th>members</th>\n",
              "    </tr>\n",
              "  </thead>\n",
              "  <tbody>\n",
              "    <tr>\n",
              "      <th>0</th>\n",
              "      <td>32281</td>\n",
              "      <td>Kimi no Na wa.</td>\n",
              "      <td>Drama, Romance, School, Supernatural</td>\n",
              "      <td>Movie</td>\n",
              "      <td>1</td>\n",
              "      <td>9.37</td>\n",
              "      <td>200630</td>\n",
              "    </tr>\n",
              "    <tr>\n",
              "      <th>1</th>\n",
              "      <td>5114</td>\n",
              "      <td>Fullmetal Alchemist: Brotherhood</td>\n",
              "      <td>Action, Adventure, Drama, Fantasy, Magic, Mili...</td>\n",
              "      <td>TV</td>\n",
              "      <td>64</td>\n",
              "      <td>9.26</td>\n",
              "      <td>793665</td>\n",
              "    </tr>\n",
              "    <tr>\n",
              "      <th>2</th>\n",
              "      <td>28977</td>\n",
              "      <td>Gintama°</td>\n",
              "      <td>Action, Comedy, Historical, Parody, Samurai, S...</td>\n",
              "      <td>TV</td>\n",
              "      <td>51</td>\n",
              "      <td>9.25</td>\n",
              "      <td>114262</td>\n",
              "    </tr>\n",
              "    <tr>\n",
              "      <th>3</th>\n",
              "      <td>9253</td>\n",
              "      <td>Steins;Gate</td>\n",
              "      <td>Sci-Fi, Thriller</td>\n",
              "      <td>TV</td>\n",
              "      <td>24</td>\n",
              "      <td>9.17</td>\n",
              "      <td>673572</td>\n",
              "    </tr>\n",
              "    <tr>\n",
              "      <th>4</th>\n",
              "      <td>9969</td>\n",
              "      <td>Gintama&amp;#039;</td>\n",
              "      <td>Action, Comedy, Historical, Parody, Samurai, S...</td>\n",
              "      <td>TV</td>\n",
              "      <td>51</td>\n",
              "      <td>9.16</td>\n",
              "      <td>151266</td>\n",
              "    </tr>\n",
              "  </tbody>\n",
              "</table>\n",
              "</div>\n",
              "      <button class=\"colab-df-convert\" onclick=\"convertToInteractive('df-d81ea91b-d768-4b2a-8270-2639d8914eb5')\"\n",
              "              title=\"Convert this dataframe to an interactive table.\"\n",
              "              style=\"display:none;\">\n",
              "        \n",
              "  <svg xmlns=\"http://www.w3.org/2000/svg\" height=\"24px\"viewBox=\"0 0 24 24\"\n",
              "       width=\"24px\">\n",
              "    <path d=\"M0 0h24v24H0V0z\" fill=\"none\"/>\n",
              "    <path d=\"M18.56 5.44l.94 2.06.94-2.06 2.06-.94-2.06-.94-.94-2.06-.94 2.06-2.06.94zm-11 1L8.5 8.5l.94-2.06 2.06-.94-2.06-.94L8.5 2.5l-.94 2.06-2.06.94zm10 10l.94 2.06.94-2.06 2.06-.94-2.06-.94-.94-2.06-.94 2.06-2.06.94z\"/><path d=\"M17.41 7.96l-1.37-1.37c-.4-.4-.92-.59-1.43-.59-.52 0-1.04.2-1.43.59L10.3 9.45l-7.72 7.72c-.78.78-.78 2.05 0 2.83L4 21.41c.39.39.9.59 1.41.59.51 0 1.02-.2 1.41-.59l7.78-7.78 2.81-2.81c.8-.78.8-2.07 0-2.86zM5.41 20L4 18.59l7.72-7.72 1.47 1.35L5.41 20z\"/>\n",
              "  </svg>\n",
              "      </button>\n",
              "      \n",
              "  <style>\n",
              "    .colab-df-container {\n",
              "      display:flex;\n",
              "      flex-wrap:wrap;\n",
              "      gap: 12px;\n",
              "    }\n",
              "\n",
              "    .colab-df-convert {\n",
              "      background-color: #E8F0FE;\n",
              "      border: none;\n",
              "      border-radius: 50%;\n",
              "      cursor: pointer;\n",
              "      display: none;\n",
              "      fill: #1967D2;\n",
              "      height: 32px;\n",
              "      padding: 0 0 0 0;\n",
              "      width: 32px;\n",
              "    }\n",
              "\n",
              "    .colab-df-convert:hover {\n",
              "      background-color: #E2EBFA;\n",
              "      box-shadow: 0px 1px 2px rgba(60, 64, 67, 0.3), 0px 1px 3px 1px rgba(60, 64, 67, 0.15);\n",
              "      fill: #174EA6;\n",
              "    }\n",
              "\n",
              "    [theme=dark] .colab-df-convert {\n",
              "      background-color: #3B4455;\n",
              "      fill: #D2E3FC;\n",
              "    }\n",
              "\n",
              "    [theme=dark] .colab-df-convert:hover {\n",
              "      background-color: #434B5C;\n",
              "      box-shadow: 0px 1px 3px 1px rgba(0, 0, 0, 0.15);\n",
              "      filter: drop-shadow(0px 1px 2px rgba(0, 0, 0, 0.3));\n",
              "      fill: #FFFFFF;\n",
              "    }\n",
              "  </style>\n",
              "\n",
              "      <script>\n",
              "        const buttonEl =\n",
              "          document.querySelector('#df-d81ea91b-d768-4b2a-8270-2639d8914eb5 button.colab-df-convert');\n",
              "        buttonEl.style.display =\n",
              "          google.colab.kernel.accessAllowed ? 'block' : 'none';\n",
              "\n",
              "        async function convertToInteractive(key) {\n",
              "          const element = document.querySelector('#df-d81ea91b-d768-4b2a-8270-2639d8914eb5');\n",
              "          const dataTable =\n",
              "            await google.colab.kernel.invokeFunction('convertToInteractive',\n",
              "                                                     [key], {});\n",
              "          if (!dataTable) return;\n",
              "\n",
              "          const docLinkHtml = 'Like what you see? Visit the ' +\n",
              "            '<a target=\"_blank\" href=https://colab.research.google.com/notebooks/data_table.ipynb>data table notebook</a>'\n",
              "            + ' to learn more about interactive tables.';\n",
              "          element.innerHTML = '';\n",
              "          dataTable['output_type'] = 'display_data';\n",
              "          await google.colab.output.renderOutput(dataTable, element);\n",
              "          const docLink = document.createElement('div');\n",
              "          docLink.innerHTML = docLinkHtml;\n",
              "          element.appendChild(docLink);\n",
              "        }\n",
              "      </script>\n",
              "    </div>\n",
              "  </div>\n",
              "  "
            ]
          },
          "metadata": {},
          "execution_count": 7
        }
      ],
      "source": [
        "#menampilkan 5 data teratas\n",
        "anime = pd.read_csv(\"anime.csv\")\n",
        "anime.head()"
      ]
    },
    {
      "cell_type": "markdown",
      "id": "3896cc5d-4fed-4c14-a3a2-5637d1eab288",
      "metadata": {
        "id": "3896cc5d-4fed-4c14-a3a2-5637d1eab288"
      },
      "source": [
        "Seketika saya melihat ada nama anime yang mirip seperti Gintama* dan Gintama&#039. Keduanya sama-sama memiliki 51 episode dengan rating dan member yang berbeda. Saya tidak akan melakukan penggabungan data karena anime_id nya berbeda sehingga diasumsikan keduanya merupakan anime yang berbeda seri. Selanjutnya kita akan melihat informasi tipe data masing-masing atribut dan mengecek apakah terdapat missing value pada file anime.csv.\n",
        "\n",
        "#### Mengecek Tipe Data dan Missing Value "
      ]
    },
    {
      "cell_type": "code",
      "execution_count": null,
      "id": "88821902-c3cb-4e47-8b2c-8031fc946a30",
      "metadata": {
        "id": "88821902-c3cb-4e47-8b2c-8031fc946a30",
        "outputId": "188bfd57-84d3-4cfb-f234-01fb79bf7047",
        "colab": {
          "base_uri": "https://localhost:8080/"
        }
      },
      "outputs": [
        {
          "output_type": "stream",
          "name": "stdout",
          "text": [
            "<class 'pandas.core.frame.DataFrame'>\n",
            "RangeIndex: 12294 entries, 0 to 12293\n",
            "Data columns (total 7 columns):\n",
            " #   Column    Non-Null Count  Dtype  \n",
            "---  ------    --------------  -----  \n",
            " 0   anime_id  12294 non-null  int64  \n",
            " 1   name      12294 non-null  object \n",
            " 2   genre     12232 non-null  object \n",
            " 3   type      12269 non-null  object \n",
            " 4   episodes  12294 non-null  object \n",
            " 5   rating    12064 non-null  float64\n",
            " 6   members   12294 non-null  int64  \n",
            "dtypes: float64(1), int64(2), object(4)\n",
            "memory usage: 672.5+ KB\n"
          ]
        }
      ],
      "source": [
        "#cek tipe data masing-masing atribut\n",
        "anime.info()"
      ]
    },
    {
      "cell_type": "code",
      "execution_count": null,
      "id": "4322fba0-7293-4e3c-84bb-0a07772aa73b",
      "metadata": {
        "id": "4322fba0-7293-4e3c-84bb-0a07772aa73b",
        "outputId": "960eedf0-244b-4ce8-bfb5-17625587d30f",
        "colab": {
          "base_uri": "https://localhost:8080/"
        }
      },
      "outputs": [
        {
          "output_type": "execute_result",
          "data": {
            "text/plain": [
              "anime_id      0\n",
              "name          0\n",
              "genre        62\n",
              "type         25\n",
              "episodes      0\n",
              "rating      230\n",
              "members       0\n",
              "dtype: int64"
            ]
          },
          "metadata": {},
          "execution_count": 9
        }
      ],
      "source": [
        "#cek missing value\n",
        "anime.isnull().sum()"
      ]
    },
    {
      "cell_type": "markdown",
      "id": "4ac324f5-230a-47c2-800a-0e6a87bc33a8",
      "metadata": {
        "id": "4ac324f5-230a-47c2-800a-0e6a87bc33a8"
      },
      "source": [
        "Atribut anime_id seharusnya merupakan data nominal yang bersifat kategorikal, bukan data numerikal (int64). Untuk mencegah terjadinya operasi perhitungan pada atribut anime_id, maka pada tahap data preparation akan diubah tipe datanya menjadi object. Selain itu terdapat nilai null pada atribut genre, type dan rating. Dikarenakan kita akan membuat sistem rekomendasi berdasarkan genre, maka nilai yang kosong pada atribut genre akan kita hapus. Kita tidak akan menghapus nilai kosong pada atribut rating maupun type karena keduanya tidak diperlukan untuk membuat sistem rekomendasi berdasarkan genre. Untuk membuat sistem rekomendasi tersebut, kita hanya memerlukan atribut anime_id, name dan genre.\n",
        "\n",
        "Selanjutnya kita akan melihat statistika deskriptif untuk kolom **rating** dan **members**. Kita akan melihat berapakah rata-rata member di seluruh anime tersebut, maupun rata-rata rating terendah dan tertinggi. Selain itu, kita juga akan melihat distribusi genre anime untuk melihat kira-kira genre apa yang paling mendominasi."
      ]
    },
    {
      "cell_type": "markdown",
      "id": "efd1fb4f-86a7-4451-9a28-527cc120bd96",
      "metadata": {
        "id": "efd1fb4f-86a7-4451-9a28-527cc120bd96"
      },
      "source": [
        "#### Statistika Deskriptif dan Distribusi Genre"
      ]
    },
    {
      "cell_type": "code",
      "execution_count": null,
      "id": "df3d945b-fbbe-4798-8a19-00d4234a66b4",
      "metadata": {
        "id": "df3d945b-fbbe-4798-8a19-00d4234a66b4",
        "outputId": "8f7bde64-9e85-4de8-d70e-2a182e606d5c",
        "colab": {
          "base_uri": "https://localhost:8080/",
          "height": 113
        }
      },
      "outputs": [
        {
          "output_type": "execute_result",
          "data": {
            "text/plain": [
              "           count          mean           std   min     25%      50%      75%  \\\n",
              "rating   12064.0      6.473902      1.026746  1.67    5.88     6.57     7.18   \n",
              "members  12294.0  18071.338864  54820.676925  5.00  225.00  1550.00  9437.00   \n",
              "\n",
              "               max  \n",
              "rating        10.0  \n",
              "members  1013917.0  "
            ],
            "text/html": [
              "\n",
              "  <div id=\"df-76cedd18-b614-44b9-bcb6-cc543b71f886\">\n",
              "    <div class=\"colab-df-container\">\n",
              "      <div>\n",
              "<style scoped>\n",
              "    .dataframe tbody tr th:only-of-type {\n",
              "        vertical-align: middle;\n",
              "    }\n",
              "\n",
              "    .dataframe tbody tr th {\n",
              "        vertical-align: top;\n",
              "    }\n",
              "\n",
              "    .dataframe thead th {\n",
              "        text-align: right;\n",
              "    }\n",
              "</style>\n",
              "<table border=\"1\" class=\"dataframe\">\n",
              "  <thead>\n",
              "    <tr style=\"text-align: right;\">\n",
              "      <th></th>\n",
              "      <th>count</th>\n",
              "      <th>mean</th>\n",
              "      <th>std</th>\n",
              "      <th>min</th>\n",
              "      <th>25%</th>\n",
              "      <th>50%</th>\n",
              "      <th>75%</th>\n",
              "      <th>max</th>\n",
              "    </tr>\n",
              "  </thead>\n",
              "  <tbody>\n",
              "    <tr>\n",
              "      <th>rating</th>\n",
              "      <td>12064.0</td>\n",
              "      <td>6.473902</td>\n",
              "      <td>1.026746</td>\n",
              "      <td>1.67</td>\n",
              "      <td>5.88</td>\n",
              "      <td>6.57</td>\n",
              "      <td>7.18</td>\n",
              "      <td>10.0</td>\n",
              "    </tr>\n",
              "    <tr>\n",
              "      <th>members</th>\n",
              "      <td>12294.0</td>\n",
              "      <td>18071.338864</td>\n",
              "      <td>54820.676925</td>\n",
              "      <td>5.00</td>\n",
              "      <td>225.00</td>\n",
              "      <td>1550.00</td>\n",
              "      <td>9437.00</td>\n",
              "      <td>1013917.0</td>\n",
              "    </tr>\n",
              "  </tbody>\n",
              "</table>\n",
              "</div>\n",
              "      <button class=\"colab-df-convert\" onclick=\"convertToInteractive('df-76cedd18-b614-44b9-bcb6-cc543b71f886')\"\n",
              "              title=\"Convert this dataframe to an interactive table.\"\n",
              "              style=\"display:none;\">\n",
              "        \n",
              "  <svg xmlns=\"http://www.w3.org/2000/svg\" height=\"24px\"viewBox=\"0 0 24 24\"\n",
              "       width=\"24px\">\n",
              "    <path d=\"M0 0h24v24H0V0z\" fill=\"none\"/>\n",
              "    <path d=\"M18.56 5.44l.94 2.06.94-2.06 2.06-.94-2.06-.94-.94-2.06-.94 2.06-2.06.94zm-11 1L8.5 8.5l.94-2.06 2.06-.94-2.06-.94L8.5 2.5l-.94 2.06-2.06.94zm10 10l.94 2.06.94-2.06 2.06-.94-2.06-.94-.94-2.06-.94 2.06-2.06.94z\"/><path d=\"M17.41 7.96l-1.37-1.37c-.4-.4-.92-.59-1.43-.59-.52 0-1.04.2-1.43.59L10.3 9.45l-7.72 7.72c-.78.78-.78 2.05 0 2.83L4 21.41c.39.39.9.59 1.41.59.51 0 1.02-.2 1.41-.59l7.78-7.78 2.81-2.81c.8-.78.8-2.07 0-2.86zM5.41 20L4 18.59l7.72-7.72 1.47 1.35L5.41 20z\"/>\n",
              "  </svg>\n",
              "      </button>\n",
              "      \n",
              "  <style>\n",
              "    .colab-df-container {\n",
              "      display:flex;\n",
              "      flex-wrap:wrap;\n",
              "      gap: 12px;\n",
              "    }\n",
              "\n",
              "    .colab-df-convert {\n",
              "      background-color: #E8F0FE;\n",
              "      border: none;\n",
              "      border-radius: 50%;\n",
              "      cursor: pointer;\n",
              "      display: none;\n",
              "      fill: #1967D2;\n",
              "      height: 32px;\n",
              "      padding: 0 0 0 0;\n",
              "      width: 32px;\n",
              "    }\n",
              "\n",
              "    .colab-df-convert:hover {\n",
              "      background-color: #E2EBFA;\n",
              "      box-shadow: 0px 1px 2px rgba(60, 64, 67, 0.3), 0px 1px 3px 1px rgba(60, 64, 67, 0.15);\n",
              "      fill: #174EA6;\n",
              "    }\n",
              "\n",
              "    [theme=dark] .colab-df-convert {\n",
              "      background-color: #3B4455;\n",
              "      fill: #D2E3FC;\n",
              "    }\n",
              "\n",
              "    [theme=dark] .colab-df-convert:hover {\n",
              "      background-color: #434B5C;\n",
              "      box-shadow: 0px 1px 3px 1px rgba(0, 0, 0, 0.15);\n",
              "      filter: drop-shadow(0px 1px 2px rgba(0, 0, 0, 0.3));\n",
              "      fill: #FFFFFF;\n",
              "    }\n",
              "  </style>\n",
              "\n",
              "      <script>\n",
              "        const buttonEl =\n",
              "          document.querySelector('#df-76cedd18-b614-44b9-bcb6-cc543b71f886 button.colab-df-convert');\n",
              "        buttonEl.style.display =\n",
              "          google.colab.kernel.accessAllowed ? 'block' : 'none';\n",
              "\n",
              "        async function convertToInteractive(key) {\n",
              "          const element = document.querySelector('#df-76cedd18-b614-44b9-bcb6-cc543b71f886');\n",
              "          const dataTable =\n",
              "            await google.colab.kernel.invokeFunction('convertToInteractive',\n",
              "                                                     [key], {});\n",
              "          if (!dataTable) return;\n",
              "\n",
              "          const docLinkHtml = 'Like what you see? Visit the ' +\n",
              "            '<a target=\"_blank\" href=https://colab.research.google.com/notebooks/data_table.ipynb>data table notebook</a>'\n",
              "            + ' to learn more about interactive tables.';\n",
              "          element.innerHTML = '';\n",
              "          dataTable['output_type'] = 'display_data';\n",
              "          await google.colab.output.renderOutput(dataTable, element);\n",
              "          const docLink = document.createElement('div');\n",
              "          docLink.innerHTML = docLinkHtml;\n",
              "          element.appendChild(docLink);\n",
              "        }\n",
              "      </script>\n",
              "    </div>\n",
              "  </div>\n",
              "  "
            ]
          },
          "metadata": {},
          "execution_count": 10
        }
      ],
      "source": [
        "#statistika deskriptif\n",
        "anime[[\"rating\",\"members\"]].describe().T"
      ]
    },
    {
      "cell_type": "code",
      "execution_count": null,
      "id": "2df1f48b-752b-4772-b994-22cfaf773639",
      "metadata": {
        "id": "2df1f48b-752b-4772-b994-22cfaf773639",
        "outputId": "f1faab37-cecc-45b4-fe2f-09376127cf83",
        "colab": {
          "base_uri": "https://localhost:8080/",
          "height": 281
        }
      },
      "outputs": [
        {
          "output_type": "display_data",
          "data": {
            "text/plain": [
              "<Figure size 432x288 with 1 Axes>"
            ],
            "image/png": "[encoded data removed]"
          },
          "metadata": {
            "needs_background": "light"
          }
        }
      ],
      "source": [
        "#histogram rating\n",
        "anime.rating.hist()\n",
        "plt.title(\"Distribusi Rata-Rata Rating\")\n",
        "plt.show()"
      ]
    },
    {
      "cell_type": "code",
      "execution_count": null,
      "id": "b1935f07-3318-4dc4-8f62-6217576fa010",
      "metadata": {
        "id": "b1935f07-3318-4dc4-8f62-6217576fa010",
        "outputId": "d372d2dd-8d2e-4a11-9655-e41d833f161b",
        "colab": {
          "base_uri": "https://localhost:8080/",
          "height": 363
        }
      },
      "outputs": [
        {
          "output_type": "execute_result",
          "data": {
            "text/plain": [
              "        Genre  Count\n",
              "10     Comedy   4645\n",
              "4      Action   2845\n",
              "5   Adventure   2348\n",
              "6     Fantasy   2309\n",
              "14     Sci-Fi   2070\n",
              "0       Drama   2016\n",
              "9     Shounen   1712\n",
              "38       Kids   1609\n",
              "1     Romance   1464\n",
              "2      School   1220"
            ],
            "text/html": [
              "\n",
              "  <div id=\"df-eeda9434-d459-49ba-823d-a03c07360759\">\n",
              "    <div class=\"colab-df-container\">\n",
              "      <div>\n",
              "<style scoped>\n",
              "    .dataframe tbody tr th:only-of-type {\n",
              "        vertical-align: middle;\n",
              "    }\n",
              "\n",
              "    .dataframe tbody tr th {\n",
              "        vertical-align: top;\n",
              "    }\n",
              "\n",
              "    .dataframe thead th {\n",
              "        text-align: right;\n",
              "    }\n",
              "</style>\n",
              "<table border=\"1\" class=\"dataframe\">\n",
              "  <thead>\n",
              "    <tr style=\"text-align: right;\">\n",
              "      <th></th>\n",
              "      <th>Genre</th>\n",
              "      <th>Count</th>\n",
              "    </tr>\n",
              "  </thead>\n",
              "  <tbody>\n",
              "    <tr>\n",
              "      <th>10</th>\n",
              "      <td>Comedy</td>\n",
              "      <td>4645</td>\n",
              "    </tr>\n",
              "    <tr>\n",
              "      <th>4</th>\n",
              "      <td>Action</td>\n",
              "      <td>2845</td>\n",
              "    </tr>\n",
              "    <tr>\n",
              "      <th>5</th>\n",
              "      <td>Adventure</td>\n",
              "      <td>2348</td>\n",
              "    </tr>\n",
              "    <tr>\n",
              "      <th>6</th>\n",
              "      <td>Fantasy</td>\n",
              "      <td>2309</td>\n",
              "    </tr>\n",
              "    <tr>\n",
              "      <th>14</th>\n",
              "      <td>Sci-Fi</td>\n",
              "      <td>2070</td>\n",
              "    </tr>\n",
              "    <tr>\n",
              "      <th>0</th>\n",
              "      <td>Drama</td>\n",
              "      <td>2016</td>\n",
              "    </tr>\n",
              "    <tr>\n",
              "      <th>9</th>\n",
              "      <td>Shounen</td>\n",
              "      <td>1712</td>\n",
              "    </tr>\n",
              "    <tr>\n",
              "      <th>38</th>\n",
              "      <td>Kids</td>\n",
              "      <td>1609</td>\n",
              "    </tr>\n",
              "    <tr>\n",
              "      <th>1</th>\n",
              "      <td>Romance</td>\n",
              "      <td>1464</td>\n",
              "    </tr>\n",
              "    <tr>\n",
              "      <th>2</th>\n",
              "      <td>School</td>\n",
              "      <td>1220</td>\n",
              "    </tr>\n",
              "  </tbody>\n",
              "</table>\n",
              "</div>\n",
              "      <button class=\"colab-df-convert\" onclick=\"convertToInteractive('df-eeda9434-d459-49ba-823d-a03c07360759')\"\n",
              "              title=\"Convert this dataframe to an interactive table.\"\n",
              "              style=\"display:none;\">\n",
              "        \n",
              "  <svg xmlns=\"http://www.w3.org/2000/svg\" height=\"24px\"viewBox=\"0 0 24 24\"\n",
              "       width=\"24px\">\n",
              "    <path d=\"M0 0h24v24H0V0z\" fill=\"none\"/>\n",
              "    <path d=\"M18.56 5.44l.94 2.06.94-2.06 2.06-.94-2.06-.94-.94-2.06-.94 2.06-2.06.94zm-11 1L8.5 8.5l.94-2.06 2.06-.94-2.06-.94L8.5 2.5l-.94 2.06-2.06.94zm10 10l.94 2.06.94-2.06 2.06-.94-2.06-.94-.94-2.06-.94 2.06-2.06.94z\"/><path d=\"M17.41 7.96l-1.37-1.37c-.4-.4-.92-.59-1.43-.59-.52 0-1.04.2-1.43.59L10.3 9.45l-7.72 7.72c-.78.78-.78 2.05 0 2.83L4 21.41c.39.39.9.59 1.41.59.51 0 1.02-.2 1.41-.59l7.78-7.78 2.81-2.81c.8-.78.8-2.07 0-2.86zM5.41 20L4 18.59l7.72-7.72 1.47 1.35L5.41 20z\"/>\n",
              "  </svg>\n",
              "      </button>\n",
              "      \n",
              "  <style>\n",
              "    .colab-df-container {\n",
              "      display:flex;\n",
              "      flex-wrap:wrap;\n",
              "      gap: 12px;\n",
              "    }\n",
              "\n",
              "    .colab-df-convert {\n",
              "      background-color: #E8F0FE;\n",
              "      border: none;\n",
              "      border-radius: 50%;\n",
              "      cursor: pointer;\n",
              "      display: none;\n",
              "      fill: #1967D2;\n",
              "      height: 32px;\n",
              "      padding: 0 0 0 0;\n",
              "      width: 32px;\n",
              "    }\n",
              "\n",
              "    .colab-df-convert:hover {\n",
              "      background-color: #E2EBFA;\n",
              "      box-shadow: 0px 1px 2px rgba(60, 64, 67, 0.3), 0px 1px 3px 1px rgba(60, 64, 67, 0.15);\n",
              "      fill: #174EA6;\n",
              "    }\n",
              "\n",
              "    [theme=dark] .colab-df-convert {\n",
              "      background-color: #3B4455;\n",
              "      fill: #D2E3FC;\n",
              "    }\n",
              "\n",
              "    [theme=dark] .colab-df-convert:hover {\n",
              "      background-color: #434B5C;\n",
              "      box-shadow: 0px 1px 3px 1px rgba(0, 0, 0, 0.15);\n",
              "      filter: drop-shadow(0px 1px 2px rgba(0, 0, 0, 0.3));\n",
              "      fill: #FFFFFF;\n",
              "    }\n",
              "  </style>\n",
              "\n",
              "      <script>\n",
              "        const buttonEl =\n",
              "          document.querySelector('#df-eeda9434-d459-49ba-823d-a03c07360759 button.colab-df-convert');\n",
              "        buttonEl.style.display =\n",
              "          google.colab.kernel.accessAllowed ? 'block' : 'none';\n",
              "\n",
              "        async function convertToInteractive(key) {\n",
              "          const element = document.querySelector('#df-eeda9434-d459-49ba-823d-a03c07360759');\n",
              "          const dataTable =\n",
              "            await google.colab.kernel.invokeFunction('convertToInteractive',\n",
              "                                                     [key], {});\n",
              "          if (!dataTable) return;\n",
              "\n",
              "          const docLinkHtml = 'Like what you see? Visit the ' +\n",
              "            '<a target=\"_blank\" href=https://colab.research.google.com/notebooks/data_table.ipynb>data table notebook</a>'\n",
              "            + ' to learn more about interactive tables.';\n",
              "          element.innerHTML = '';\n",
              "          dataTable['output_type'] = 'display_data';\n",
              "          await google.colab.output.renderOutput(dataTable, element);\n",
              "          const docLink = document.createElement('div');\n",
              "          docLink.innerHTML = docLinkHtml;\n",
              "          element.appendChild(docLink);\n",
              "        }\n",
              "      </script>\n",
              "    </div>\n",
              "  </div>\n",
              "  "
            ]
          },
          "metadata": {},
          "execution_count": 12
        }
      ],
      "source": [
        "#data jumlah genre\n",
        "genre_ = []\n",
        "\n",
        "for v in anime.genre.dropna():\n",
        "    temp_ = [t.strip() for t in v.split(\",\")]\n",
        "    genre_ += temp_\n",
        "    \n",
        "g_c = collections.Counter(genre_)\n",
        "genre_count = pd.DataFrame({\"Genre\":g_c.keys(), \"Count\":g_c.values()}).sort_values(\"Count\", ascending=False)\n",
        "\n",
        "genre_count.head(10)"
      ]
    },
    {
      "cell_type": "markdown",
      "id": "28505df2-e1b8-4513-9baf-976bb03dd743",
      "metadata": {
        "id": "28505df2-e1b8-4513-9baf-976bb03dd743"
      },
      "source": [
        "Dari statistika deskriptif kita bisa mendapatkan beberapa informasi, di antaranya:\n",
        "- Rating terendah dan tertinggi seluruh anime berturut-turut sebesar 1.67 dan 10.\n",
        "- Jumlah member komunitas anime terendah dan tertinggi berturut-turut sebesar 5 dan 1,013,917.\n",
        "- Distribusi rating bentuknya simetris dengan rata-rata rating yang sering muncul sebesar +- 7.\n",
        "- Comedy menjadi genre yang paling banyak ditemukan dalam koleksi anime tersebut, diikuti dengan action dan adventure. \n",
        "- Terdapat jenis genre yang terdiri dari 2 kata atau lebih, misalnya slice of life. Spasi pada kategori tersebut harus kita ganti dengan tanda garis bawah ( _ ) supaya pada saat menggunakan TfidfVectorizer kata-katanya tidak terpisah menjadi slice, of, dan life."
      ]
    },
    {
      "cell_type": "markdown",
      "id": "2125283e-2bd9-4a92-a1b2-84adfb35d11c",
      "metadata": {
        "id": "2125283e-2bd9-4a92-a1b2-84adfb35d11c"
      },
      "source": [
        "### 2. Rating\n",
        "Dataset ini berisi penilaian pengguna pada sebuah anime dengan beberapa atribut sebagai berikut:\n",
        "- user_id = ID yang dimiliki pengguna.\n",
        "- anime_id = ID unik anime yang pernah ditonton pengguna.\n",
        "- rating = rating yang diberikan pengguna, bernilai -1 jika pengguna hanya menonton saja dan tidak memberikan rating.\n",
        "\n",
        "#### Menampilkan 5 Data Teratas"
      ]
    },
    {
      "cell_type": "code",
      "execution_count": null,
      "id": "5706ff28-75bc-4524-a352-5e669382c095",
      "metadata": {
        "id": "5706ff28-75bc-4524-a352-5e669382c095",
        "outputId": "a25c5a98-0cf4-474d-8a18-da49a4907633",
        "colab": {
          "base_uri": "https://localhost:8080/",
          "height": 207
        }
      },
      "outputs": [
        {
          "output_type": "execute_result",
          "data": {
            "text/plain": [
              "   user_id  anime_id  rating\n",
              "0        1        20      -1\n",
              "1        1        24      -1\n",
              "2        1        79      -1\n",
              "3        1       226      -1\n",
              "4        1       241      -1"
            ],
            "text/html": [
              "\n",
              "  <div id=\"df-737f4020-117e-4072-9090-ad7f0b10d158\">\n",
              "    <div class=\"colab-df-container\">\n",
              "      <div>\n",
              "<style scoped>\n",
              "    .dataframe tbody tr th:only-of-type {\n",
              "        vertical-align: middle;\n",
              "    }\n",
              "\n",
              "    .dataframe tbody tr th {\n",
              "        vertical-align: top;\n",
              "    }\n",
              "\n",
              "    .dataframe thead th {\n",
              "        text-align: right;\n",
              "    }\n",
              "</style>\n",
              "<table border=\"1\" class=\"dataframe\">\n",
              "  <thead>\n",
              "    <tr style=\"text-align: right;\">\n",
              "      <th></th>\n",
              "      <th>user_id</th>\n",
              "      <th>anime_id</th>\n",
              "      <th>rating</th>\n",
              "    </tr>\n",
              "  </thead>\n",
              "  <tbody>\n",
              "    <tr>\n",
              "      <th>0</th>\n",
              "      <td>1</td>\n",
              "      <td>20</td>\n",
              "      <td>-1</td>\n",
              "    </tr>\n",
              "    <tr>\n",
              "      <th>1</th>\n",
              "      <td>1</td>\n",
              "      <td>24</td>\n",
              "      <td>-1</td>\n",
              "    </tr>\n",
              "    <tr>\n",
              "      <th>2</th>\n",
              "      <td>1</td>\n",
              "      <td>79</td>\n",
              "      <td>-1</td>\n",
              "    </tr>\n",
              "    <tr>\n",
              "      <th>3</th>\n",
              "      <td>1</td>\n",
              "      <td>226</td>\n",
              "      <td>-1</td>\n",
              "    </tr>\n",
              "    <tr>\n",
              "      <th>4</th>\n",
              "      <td>1</td>\n",
              "      <td>241</td>\n",
              "      <td>-1</td>\n",
              "    </tr>\n",
              "  </tbody>\n",
              "</table>\n",
              "</div>\n",
              "      <button class=\"colab-df-convert\" onclick=\"convertToInteractive('df-737f4020-117e-4072-9090-ad7f0b10d158')\"\n",
              "              title=\"Convert this dataframe to an interactive table.\"\n",
              "              style=\"display:none;\">\n",
              "        \n",
              "  <svg xmlns=\"http://www.w3.org/2000/svg\" height=\"24px\"viewBox=\"0 0 24 24\"\n",
              "       width=\"24px\">\n",
              "    <path d=\"M0 0h24v24H0V0z\" fill=\"none\"/>\n",
              "    <path d=\"M18.56 5.44l.94 2.06.94-2.06 2.06-.94-2.06-.94-.94-2.06-.94 2.06-2.06.94zm-11 1L8.5 8.5l.94-2.06 2.06-.94-2.06-.94L8.5 2.5l-.94 2.06-2.06.94zm10 10l.94 2.06.94-2.06 2.06-.94-2.06-.94-.94-2.06-.94 2.06-2.06.94z\"/><path d=\"M17.41 7.96l-1.37-1.37c-.4-.4-.92-.59-1.43-.59-.52 0-1.04.2-1.43.59L10.3 9.45l-7.72 7.72c-.78.78-.78 2.05 0 2.83L4 21.41c.39.39.9.59 1.41.59.51 0 1.02-.2 1.41-.59l7.78-7.78 2.81-2.81c.8-.78.8-2.07 0-2.86zM5.41 20L4 18.59l7.72-7.72 1.47 1.35L5.41 20z\"/>\n",
              "  </svg>\n",
              "      </button>\n",
              "      \n",
              "  <style>\n",
              "    .colab-df-container {\n",
              "      display:flex;\n",
              "      flex-wrap:wrap;\n",
              "      gap: 12px;\n",
              "    }\n",
              "\n",
              "    .colab-df-convert {\n",
              "      background-color: #E8F0FE;\n",
              "      border: none;\n",
              "      border-radius: 50%;\n",
              "      cursor: pointer;\n",
              "      display: none;\n",
              "      fill: #1967D2;\n",
              "      height: 32px;\n",
              "      padding: 0 0 0 0;\n",
              "      width: 32px;\n",
              "    }\n",
              "\n",
              "    .colab-df-convert:hover {\n",
              "      background-color: #E2EBFA;\n",
              "      box-shadow: 0px 1px 2px rgba(60, 64, 67, 0.3), 0px 1px 3px 1px rgba(60, 64, 67, 0.15);\n",
              "      fill: #174EA6;\n",
              "    }\n",
              "\n",
              "    [theme=dark] .colab-df-convert {\n",
              "      background-color: #3B4455;\n",
              "      fill: #D2E3FC;\n",
              "    }\n",
              "\n",
              "    [theme=dark] .colab-df-convert:hover {\n",
              "      background-color: #434B5C;\n",
              "      box-shadow: 0px 1px 3px 1px rgba(0, 0, 0, 0.15);\n",
              "      filter: drop-shadow(0px 1px 2px rgba(0, 0, 0, 0.3));\n",
              "      fill: #FFFFFF;\n",
              "    }\n",
              "  </style>\n",
              "\n",
              "      <script>\n",
              "        const buttonEl =\n",
              "          document.querySelector('#df-737f4020-117e-4072-9090-ad7f0b10d158 button.colab-df-convert');\n",
              "        buttonEl.style.display =\n",
              "          google.colab.kernel.accessAllowed ? 'block' : 'none';\n",
              "\n",
              "        async function convertToInteractive(key) {\n",
              "          const element = document.querySelector('#df-737f4020-117e-4072-9090-ad7f0b10d158');\n",
              "          const dataTable =\n",
              "            await google.colab.kernel.invokeFunction('convertToInteractive',\n",
              "                                                     [key], {});\n",
              "          if (!dataTable) return;\n",
              "\n",
              "          const docLinkHtml = 'Like what you see? Visit the ' +\n",
              "            '<a target=\"_blank\" href=https://colab.research.google.com/notebooks/data_table.ipynb>data table notebook</a>'\n",
              "            + ' to learn more about interactive tables.';\n",
              "          element.innerHTML = '';\n",
              "          dataTable['output_type'] = 'display_data';\n",
              "          await google.colab.output.renderOutput(dataTable, element);\n",
              "          const docLink = document.createElement('div');\n",
              "          docLink.innerHTML = docLinkHtml;\n",
              "          element.appendChild(docLink);\n",
              "        }\n",
              "      </script>\n",
              "    </div>\n",
              "  </div>\n",
              "  "
            ]
          },
          "metadata": {},
          "execution_count": 13
        }
      ],
      "source": [
        "rating = pd.read_csv(\"rating.csv\")\n",
        "rating.head()"
      ]
    },
    {
      "cell_type": "markdown",
      "id": "9fd4be0e-7416-41b7-b8ea-872aca18aa68",
      "metadata": {
        "id": "9fd4be0e-7416-41b7-b8ea-872aca18aa68"
      },
      "source": [
        "Sesuai dengan penjelasan dataset, terdapat rating yang bernilai -1, artinya pengguna tidak memberikan rating dan hanya menonton saja. Kita tidak tahu apakah pengguna tersebut benar-benar menyukai anime yang ditonton atau tidak sehingga hal ini bisa berpotensi menimbulkan bias pada model rekomendasi. Kita akan menghapus semua data dengan rating bernilai -1. Selanjutnya kita akan melihat informasi tipe data dan missing value pada masing-masing atribut pada file rating.csv.\n",
        "\n",
        "\n",
        "#### Mengecek Tipe Data dan Missing Value"
      ]
    },
    {
      "cell_type": "code",
      "execution_count": null,
      "id": "1e090e62-b048-4b8c-b12e-8211367bcec3",
      "metadata": {
        "id": "1e090e62-b048-4b8c-b12e-8211367bcec3",
        "outputId": "f201c05b-6d69-4d74-825b-4b2738fb4d8d",
        "colab": {
          "base_uri": "https://localhost:8080/"
        }
      },
      "outputs": [
        {
          "output_type": "stream",
          "name": "stdout",
          "text": [
            "<class 'pandas.core.frame.DataFrame'>\n",
            "RangeIndex: 7813737 entries, 0 to 7813736\n",
            "Data columns (total 3 columns):\n",
            " #   Column    Dtype\n",
            "---  ------    -----\n",
            " 0   user_id   int64\n",
            " 1   anime_id  int64\n",
            " 2   rating    int64\n",
            "dtypes: int64(3)\n",
            "memory usage: 178.8 MB\n"
          ]
        }
      ],
      "source": [
        "#cek tipe data masing-masing atribut\n",
        "rating.info()"
      ]
    },
    {
      "cell_type": "code",
      "execution_count": null,
      "id": "cae02097-7cba-4c05-9264-ab3580afafe1",
      "metadata": {
        "id": "cae02097-7cba-4c05-9264-ab3580afafe1",
        "outputId": "3f2dca38-41c4-4c1f-e137-de62112de52c",
        "colab": {
          "base_uri": "https://localhost:8080/"
        }
      },
      "outputs": [
        {
          "output_type": "execute_result",
          "data": {
            "text/plain": [
              "user_id     0\n",
              "anime_id    0\n",
              "rating      0\n",
              "dtype: int64"
            ]
          },
          "metadata": {},
          "execution_count": 15
        }
      ],
      "source": [
        "#cek missing value\n",
        "rating.isnull().sum()"
      ]
    },
    {
      "cell_type": "markdown",
      "id": "c21595c9-f6fd-4dbc-b472-66504d1d1028",
      "metadata": {
        "id": "c21595c9-f6fd-4dbc-b472-66504d1d1028"
      },
      "source": [
        "Sama halnya dengan dataset anime, atribut anime_id juga masih bertipe integer pada dataset rating. Oleh karena itu, pada tahap data preparation atribut anime_id akan diubah tipenya menjadi object. Selain itu, tidak ada missing value pada semua atribut dataset rating."
      ]
    },
    {
      "cell_type": "markdown",
      "id": "ef6cdd59-cc73-4c3a-a79a-d1f35a36bb24",
      "metadata": {
        "id": "ef6cdd59-cc73-4c3a-a79a-d1f35a36bb24"
      },
      "source": [
        "#### Statistik Rating"
      ]
    },
    {
      "cell_type": "code",
      "execution_count": null,
      "id": "498231c9-1109-422d-af84-68129a3db786",
      "metadata": {
        "id": "498231c9-1109-422d-af84-68129a3db786",
        "outputId": "515c4c94-2b73-44af-a703-d50172300bd6",
        "colab": {
          "base_uri": "https://localhost:8080/"
        }
      },
      "outputs": [
        {
          "output_type": "execute_result",
          "data": {
            "text/plain": [
              "count    7.813737e+06\n",
              "mean     6.144030e+00\n",
              "std      3.727800e+00\n",
              "min     -1.000000e+00\n",
              "25%      6.000000e+00\n",
              "50%      7.000000e+00\n",
              "75%      9.000000e+00\n",
              "max      1.000000e+01\n",
              "Name: rating, dtype: float64"
            ]
          },
          "metadata": {},
          "execution_count": 16
        }
      ],
      "source": [
        "#statistik deskriptif rating\n",
        "rating.rating.describe().T"
      ]
    },
    {
      "cell_type": "code",
      "execution_count": null,
      "id": "fee3a3cc-2a9c-4a03-9ee8-39b5ab6c3ee7",
      "metadata": {
        "id": "fee3a3cc-2a9c-4a03-9ee8-39b5ab6c3ee7",
        "outputId": "b2846fbe-230a-4325-dfa7-5065d2d15f1c",
        "colab": {
          "base_uri": "https://localhost:8080/",
          "height": 281
        }
      },
      "outputs": [
        {
          "output_type": "display_data",
          "data": {
            "text/plain": [
              "<Figure size 432x288 with 1 Axes>"
            ],
            "image/png": "[encoded data removed]"
          },
          "metadata": {
            "needs_background": "light"
          }
        }
      ],
      "source": [
        "#sebaran pemberian rating\n",
        "rating.rating.hist()\n",
        "plt.title(\"Sebaran Pemberian Rating oleh Pengguna\")\n",
        "plt.show()"
      ]
    },
    {
      "cell_type": "markdown",
      "id": "77e73f8e-cf4b-4b48-8f35-efb5679845a5",
      "metadata": {
        "id": "77e73f8e-cf4b-4b48-8f35-efb5679845a5"
      },
      "source": [
        "Berdasarkan statistik deskriptif maupun histogram dapat dilihat bahwa rating yang bernilai -1 masih banyak muncul pada dataset rating. Selain itu, terdapat kecenderungan pengguna memberikan rating yang tinggi pada anime."
      ]
    },
    {
      "cell_type": "markdown",
      "id": "ff087419-4b5f-4122-b88c-e9307593fc07",
      "metadata": {
        "id": "ff087419-4b5f-4122-b88c-e9307593fc07"
      },
      "source": [
        "## Data Preparation"
      ]
    },
    {
      "cell_type": "markdown",
      "id": "cbf2711f-aec5-4ece-ac0c-2fea163f1da5",
      "metadata": {
        "id": "cbf2711f-aec5-4ece-ac0c-2fea163f1da5"
      },
      "source": [
        "#### 1. Penyesuaian Tipe Data\n",
        "\n",
        "Kita akan mengubah tipe data atribut anime_id dari yang semula bertipe integer menjadi objek karena anime_id merupakan data nominal dan untuk mengantisispasi terjadinya operasi perhitungan. "
      ]
    },
    {
      "cell_type": "code",
      "execution_count": null,
      "id": "8b387c55-1834-485b-9d63-e02ad32f44e0",
      "metadata": {
        "id": "8b387c55-1834-485b-9d63-e02ad32f44e0"
      },
      "outputs": [],
      "source": [
        "#mengubah tipe data anime_id \n",
        "anime['anime_id'] = anime['anime_id'].astype('object')\n",
        "rating['anime_id'] = rating['anime_id'].astype('object')"
      ]
    },
    {
      "cell_type": "code",
      "execution_count": null,
      "id": "e63768e3-2214-4e90-9d5d-400f9fed3907",
      "metadata": {
        "id": "e63768e3-2214-4e90-9d5d-400f9fed3907",
        "outputId": "0ec11807-3276-4b79-ed94-212a7d3d2cd5",
        "colab": {
          "base_uri": "https://localhost:8080/"
        }
      },
      "outputs": [
        {
          "output_type": "stream",
          "name": "stdout",
          "text": [
            "<class 'pandas.core.frame.DataFrame'>\n",
            "RangeIndex: 12294 entries, 0 to 12293\n",
            "Data columns (total 7 columns):\n",
            " #   Column    Non-Null Count  Dtype  \n",
            "---  ------    --------------  -----  \n",
            " 0   anime_id  12294 non-null  object \n",
            " 1   name      12294 non-null  object \n",
            " 2   genre     12232 non-null  object \n",
            " 3   type      12269 non-null  object \n",
            " 4   episodes  12294 non-null  object \n",
            " 5   rating    12064 non-null  float64\n",
            " 6   members   12294 non-null  int64  \n",
            "dtypes: float64(1), int64(1), object(5)\n",
            "memory usage: 672.5+ KB\n"
          ]
        }
      ],
      "source": [
        "#info tipe data anime\n",
        "anime.info()"
      ]
    },
    {
      "cell_type": "code",
      "execution_count": null,
      "id": "22292c12-905e-474b-be00-bb81092c51e1",
      "metadata": {
        "id": "22292c12-905e-474b-be00-bb81092c51e1",
        "outputId": "5b77938b-b66c-4f1e-e70a-4fba919ea9fd",
        "colab": {
          "base_uri": "https://localhost:8080/"
        }
      },
      "outputs": [
        {
          "output_type": "stream",
          "name": "stdout",
          "text": [
            "<class 'pandas.core.frame.DataFrame'>\n",
            "RangeIndex: 7813737 entries, 0 to 7813736\n",
            "Data columns (total 3 columns):\n",
            " #   Column    Dtype \n",
            "---  ------    ----- \n",
            " 0   user_id   int64 \n",
            " 1   anime_id  object\n",
            " 2   rating    int64 \n",
            "dtypes: int64(2), object(1)\n",
            "memory usage: 178.8+ MB\n"
          ]
        }
      ],
      "source": [
        "#info tipe data rating\n",
        "rating.info()"
      ]
    },
    {
      "cell_type": "markdown",
      "id": "cfad36d7-5cfd-4bcb-ae5b-076ab2b0a4bb",
      "metadata": {
        "id": "cfad36d7-5cfd-4bcb-ae5b-076ab2b0a4bb"
      },
      "source": [
        "#### 2. Menghapus Baris dengan Missing Value dan Noise\n",
        "Pada dataset anime kita akan menghapus baris dengan missing value pada atribut genre. Hal ini karena sistem rekomendasi yang akan dibangun (content based) memerlukan atribut genre yang memiliki value. Di sisi lain, pada dataset rating terdapat rating yang bernilai -1 sehingga berpotensi menjadi noise ketika digunakan untuk membuat sistem rekomendasi berbasis collaborative filtering. "
      ]
    },
    {
      "cell_type": "code",
      "execution_count": null,
      "id": "54beb69d-0f54-4d84-9e31-6d3d64b13bf6",
      "metadata": {
        "id": "54beb69d-0f54-4d84-9e31-6d3d64b13bf6",
        "outputId": "3ecd03a5-7a6c-40aa-d8c7-cb983d127257",
        "colab": {
          "base_uri": "https://localhost:8080/"
        }
      },
      "outputs": [
        {
          "output_type": "execute_result",
          "data": {
            "text/plain": [
              "anime_id      0\n",
              "name          0\n",
              "genre         0\n",
              "type         22\n",
              "episodes      0\n",
              "rating      215\n",
              "members       0\n",
              "dtype: int64"
            ]
          },
          "metadata": {},
          "execution_count": 21
        }
      ],
      "source": [
        "#menghapus baris dengan genre yang bernilai Nan \n",
        "anime_clean = anime.dropna(axis=0, subset=['genre'])\n",
        "\n",
        "#cek apakah masih terdapat missing value pada atribut genre\n",
        "anime_clean.isnull().sum()"
      ]
    },
    {
      "cell_type": "code",
      "execution_count": null,
      "id": "48c23736-9ee8-42c1-9f35-71185217057e",
      "metadata": {
        "id": "48c23736-9ee8-42c1-9f35-71185217057e",
        "outputId": "699f8b09-bdea-4dd4-a6be-8361cf595938",
        "colab": {
          "base_uri": "https://localhost:8080/"
        }
      },
      "outputs": [
        {
          "output_type": "stream",
          "name": "stdout",
          "text": [
            "(12294, 7)\n",
            "(12232, 7)\n"
          ]
        }
      ],
      "source": [
        "#cek jumlah data\n",
        "print(anime.shape)\n",
        "print(anime_clean.shape)"
      ]
    },
    {
      "cell_type": "code",
      "execution_count": null,
      "id": "7eeae798-7ced-4233-b638-3f5bc980f031",
      "metadata": {
        "id": "7eeae798-7ced-4233-b638-3f5bc980f031",
        "outputId": "d047c5db-b1f0-4140-b476-596024062ca6",
        "colab": {
          "base_uri": "https://localhost:8080/"
        }
      },
      "outputs": [
        {
          "output_type": "execute_result",
          "data": {
            "text/plain": [
              "count    6.337241e+06\n",
              "mean     7.808497e+00\n",
              "std      1.572496e+00\n",
              "min      1.000000e+00\n",
              "25%      7.000000e+00\n",
              "50%      8.000000e+00\n",
              "75%      9.000000e+00\n",
              "max      1.000000e+01\n",
              "Name: rating, dtype: float64"
            ]
          },
          "metadata": {},
          "execution_count": 23
        }
      ],
      "source": [
        "#menghapus baris dengan rating yang bernilai -1\n",
        "rating_clean = rating[rating['rating'] != -1]\n",
        "\n",
        "#cek apakah masih terdapat nilai -1 pada atribut rating\n",
        "rating_clean.rating.describe()"
      ]
    },
    {
      "cell_type": "code",
      "execution_count": null,
      "id": "947cd88d-033e-444a-9e1c-8ab524c4cff1",
      "metadata": {
        "id": "947cd88d-033e-444a-9e1c-8ab524c4cff1",
        "outputId": "d82c1c7e-69a5-419d-ead0-75113e134747",
        "colab": {
          "base_uri": "https://localhost:8080/"
        }
      },
      "outputs": [
        {
          "output_type": "stream",
          "name": "stdout",
          "text": [
            "(7813737, 3)\n",
            "(6337241, 3)\n"
          ]
        }
      ],
      "source": [
        "#cek jumlah data\n",
        "print(rating.shape)\n",
        "print(rating_clean.shape)"
      ]
    },
    {
      "cell_type": "markdown",
      "id": "aa7f2b6c-b1b0-49b7-bf5e-5ffac3fa378a",
      "metadata": {
        "id": "aa7f2b6c-b1b0-49b7-bf5e-5ffac3fa378a"
      },
      "source": [
        "#### 3. Perbaikan Penulisan Jenis Genre\n",
        "\n",
        "Diketahui masih terdapat jenis genre yang terdiri dari 2 kata atau lebih, misalnya slice of life. Spasi pada kategori tersebut harus kita ganti dengan tanda garis bawah ( _ ) supaya pada saat menggunakan TfidfVectorizer kata-katanya tidak terpisah menjadi slice, of, dan life. "
      ]
    },
    {
      "cell_type": "code",
      "execution_count": null,
      "id": "87145310-3e4a-4316-8e52-369c5bb09eb8",
      "metadata": {
        "id": "87145310-3e4a-4316-8e52-369c5bb09eb8"
      },
      "outputs": [],
      "source": [
        "genre_transform = {\"Slice of Life\":\"Slice_of_Life\",\n",
        "                   \"Super Power\":\"Super_Power\",\n",
        "                   \"Martial Arts\":\"Martial_Arts\",\n",
        "                   \"Shounen Ai\":\"Shounen_Ai\",\n",
        "                   \"Shoujo Ai\":\"Shoujo_Ai\",\n",
        "                   \"Sci-Fi\":\"Sci_Fi\"}\n",
        "\n",
        "#fungsi untuk mengubah format penamaan genre\n",
        "def transform(list_genre):\n",
        "    new_list = []\n",
        "    for g in list_genre:\n",
        "        if g not in genre_transform.keys(): #jika nama genre sudah tepat, masukkan ke dalam list baru\n",
        "            new_list.append(g)\n",
        "        else:\n",
        "            correct_genre = g.replace(g, genre_transform[g]) #jika belum, ganti berdasarkan data dari dict\n",
        "            new_list.append(correct_genre)\n",
        "    return new_list"
      ]
    },
    {
      "cell_type": "code",
      "execution_count": null,
      "id": "10ccca02-2dca-4949-81de-624833890410",
      "metadata": {
        "id": "10ccca02-2dca-4949-81de-624833890410",
        "outputId": "b2c2f273-dd59-48a2-90bd-e61d53878c68",
        "colab": {
          "base_uri": "https://localhost:8080/"
        }
      },
      "outputs": [
        {
          "output_type": "execute_result",
          "data": {
            "text/plain": [
              "['Slice_of_Life', 'Shoujo_Ai']"
            ]
          },
          "metadata": {},
          "execution_count": 26
        }
      ],
      "source": [
        "#check fungsi apakah sudah berhasil atau belum\n",
        "list_g = [\"Slice of Life\", \"Shoujo Ai\"]\n",
        "transform(list_g)"
      ]
    },
    {
      "cell_type": "code",
      "execution_count": null,
      "id": "2ff65caa-772c-444f-8c61-8507fe56abc3",
      "metadata": {
        "id": "2ff65caa-772c-444f-8c61-8507fe56abc3",
        "outputId": "9c14505b-148c-489d-bb0a-56c4f7915010",
        "colab": {
          "base_uri": "https://localhost:8080/",
          "height": 207
        }
      },
      "outputs": [
        {
          "output_type": "execute_result",
          "data": {
            "text/plain": [
              "  anime_id                              name  \\\n",
              "0    32281                    Kimi no Na wa.   \n",
              "1     5114  Fullmetal Alchemist: Brotherhood   \n",
              "2    28977                          Gintama°   \n",
              "3     9253                       Steins;Gate   \n",
              "4     9969                     Gintama&#039;   \n",
              "\n",
              "                                               genre   type episodes  rating  \\\n",
              "0               Drama, Romance, School, Supernatural  Movie        1    9.37   \n",
              "1  Action, Adventure, Drama, Fantasy, Magic, Mili...     TV       64    9.26   \n",
              "2  Action, Comedy, Historical, Parody, Samurai, S...     TV       51    9.25   \n",
              "3                                   Sci-Fi, Thriller     TV       24    9.17   \n",
              "4  Action, Comedy, Historical, Parody, Samurai, S...     TV       51    9.16   \n",
              "\n",
              "   members                                         genre_list  \\\n",
              "0   200630             [Drama, Romance, School, Supernatural]   \n",
              "1   793665  [Action, Adventure, Drama, Fantasy, Magic, Mil...   \n",
              "2   114262  [Action, Comedy, Historical, Parody, Samurai, ...   \n",
              "3   673572                                 [Sci_Fi, Thriller]   \n",
              "4   151266  [Action, Comedy, Historical, Parody, Samurai, ...   \n",
              "\n",
              "                                         genre_clean  \n",
              "0                  Drama Romance School Supernatural  \n",
              "1  Action Adventure Drama Fantasy Magic Military ...  \n",
              "2  Action Comedy Historical Parody Samurai Sci_Fi...  \n",
              "3                                    Sci_Fi Thriller  \n",
              "4  Action Comedy Historical Parody Samurai Sci_Fi...  "
            ],
            "text/html": [
              "\n",
              "  <div id=\"df-0c17c688-7445-4995-b494-c26f7403143f\">\n",
              "    <div class=\"colab-df-container\">\n",
              "      <div>\n",
              "<style scoped>\n",
              "    .dataframe tbody tr th:only-of-type {\n",
              "        vertical-align: middle;\n",
              "    }\n",
              "\n",
              "    .dataframe tbody tr th {\n",
              "        vertical-align: top;\n",
              "    }\n",
              "\n",
              "    .dataframe thead th {\n",
              "        text-align: right;\n",
              "    }\n",
              "</style>\n",
              "<table border=\"1\" class=\"dataframe\">\n",
              "  <thead>\n",
              "    <tr style=\"text-align: right;\">\n",
              "      <th></th>\n",
              "      <th>anime_id</th>\n",
              "      <th>name</th>\n",
              "      <th>genre</th>\n",
              "      <th>type</th>\n",
              "      <th>episodes</th>\n",
              "      <th>rating</th>\n",
              "      <th>members</th>\n",
              "      <th>genre_list</th>\n",
              "      <th>genre_clean</th>\n",
              "    </tr>\n",
              "  </thead>\n",
              "  <tbody>\n",
              "    <tr>\n",
              "      <th>0</th>\n",
              "      <td>32281</td>\n",
              "      <td>Kimi no Na wa.</td>\n",
              "      <td>Drama, Romance, School, Supernatural</td>\n",
              "      <td>Movie</td>\n",
              "      <td>1</td>\n",
              "      <td>9.37</td>\n",
              "      <td>200630</td>\n",
              "      <td>[Drama, Romance, School, Supernatural]</td>\n",
              "      <td>Drama Romance School Supernatural</td>\n",
              "    </tr>\n",
              "    <tr>\n",
              "      <th>1</th>\n",
              "      <td>5114</td>\n",
              "      <td>Fullmetal Alchemist: Brotherhood</td>\n",
              "      <td>Action, Adventure, Drama, Fantasy, Magic, Mili...</td>\n",
              "      <td>TV</td>\n",
              "      <td>64</td>\n",
              "      <td>9.26</td>\n",
              "      <td>793665</td>\n",
              "      <td>[Action, Adventure, Drama, Fantasy, Magic, Mil...</td>\n",
              "      <td>Action Adventure Drama Fantasy Magic Military ...</td>\n",
              "    </tr>\n",
              "    <tr>\n",
              "      <th>2</th>\n",
              "      <td>28977</td>\n",
              "      <td>Gintama°</td>\n",
              "      <td>Action, Comedy, Historical, Parody, Samurai, S...</td>\n",
              "      <td>TV</td>\n",
              "      <td>51</td>\n",
              "      <td>9.25</td>\n",
              "      <td>114262</td>\n",
              "      <td>[Action, Comedy, Historical, Parody, Samurai, ...</td>\n",
              "      <td>Action Comedy Historical Parody Samurai Sci_Fi...</td>\n",
              "    </tr>\n",
              "    <tr>\n",
              "      <th>3</th>\n",
              "      <td>9253</td>\n",
              "      <td>Steins;Gate</td>\n",
              "      <td>Sci-Fi, Thriller</td>\n",
              "      <td>TV</td>\n",
              "      <td>24</td>\n",
              "      <td>9.17</td>\n",
              "      <td>673572</td>\n",
              "      <td>[Sci_Fi, Thriller]</td>\n",
              "      <td>Sci_Fi Thriller</td>\n",
              "    </tr>\n",
              "    <tr>\n",
              "      <th>4</th>\n",
              "      <td>9969</td>\n",
              "      <td>Gintama&amp;#039;</td>\n",
              "      <td>Action, Comedy, Historical, Parody, Samurai, S...</td>\n",
              "      <td>TV</td>\n",
              "      <td>51</td>\n",
              "      <td>9.16</td>\n",
              "      <td>151266</td>\n",
              "      <td>[Action, Comedy, Historical, Parody, Samurai, ...</td>\n",
              "      <td>Action Comedy Historical Parody Samurai Sci_Fi...</td>\n",
              "    </tr>\n",
              "  </tbody>\n",
              "</table>\n",
              "</div>\n",
              "      <button class=\"colab-df-convert\" onclick=\"convertToInteractive('df-0c17c688-7445-4995-b494-c26f7403143f')\"\n",
              "              title=\"Convert this dataframe to an interactive table.\"\n",
              "              style=\"display:none;\">\n",
              "        \n",
              "  <svg xmlns=\"http://www.w3.org/2000/svg\" height=\"24px\"viewBox=\"0 0 24 24\"\n",
              "       width=\"24px\">\n",
              "    <path d=\"M0 0h24v24H0V0z\" fill=\"none\"/>\n",
              "    <path d=\"M18.56 5.44l.94 2.06.94-2.06 2.06-.94-2.06-.94-.94-2.06-.94 2.06-2.06.94zm-11 1L8.5 8.5l.94-2.06 2.06-.94-2.06-.94L8.5 2.5l-.94 2.06-2.06.94zm10 10l.94 2.06.94-2.06 2.06-.94-2.06-.94-.94-2.06-.94 2.06-2.06.94z\"/><path d=\"M17.41 7.96l-1.37-1.37c-.4-.4-.92-.59-1.43-.59-.52 0-1.04.2-1.43.59L10.3 9.45l-7.72 7.72c-.78.78-.78 2.05 0 2.83L4 21.41c.39.39.9.59 1.41.59.51 0 1.02-.2 1.41-.59l7.78-7.78 2.81-2.81c.8-.78.8-2.07 0-2.86zM5.41 20L4 18.59l7.72-7.72 1.47 1.35L5.41 20z\"/>\n",
              "  </svg>\n",
              "      </button>\n",
              "      \n",
              "  <style>\n",
              "    .colab-df-container {\n",
              "      display:flex;\n",
              "      flex-wrap:wrap;\n",
              "      gap: 12px;\n",
              "    }\n",
              "\n",
              "    .colab-df-convert {\n",
              "      background-color: #E8F0FE;\n",
              "      border: none;\n",
              "      border-radius: 50%;\n",
              "      cursor: pointer;\n",
              "      display: none;\n",
              "      fill: #1967D2;\n",
              "      height: 32px;\n",
              "      padding: 0 0 0 0;\n",
              "      width: 32px;\n",
              "    }\n",
              "\n",
              "    .colab-df-convert:hover {\n",
              "      background-color: #E2EBFA;\n",
              "      box-shadow: 0px 1px 2px rgba(60, 64, 67, 0.3), 0px 1px 3px 1px rgba(60, 64, 67, 0.15);\n",
              "      fill: #174EA6;\n",
              "    }\n",
              "\n",
              "    [theme=dark] .colab-df-convert {\n",
              "      background-color: #3B4455;\n",
              "      fill: #D2E3FC;\n",
              "    }\n",
              "\n",
              "    [theme=dark] .colab-df-convert:hover {\n",
              "      background-color: #434B5C;\n",
              "      box-shadow: 0px 1px 3px 1px rgba(0, 0, 0, 0.15);\n",
              "      filter: drop-shadow(0px 1px 2px rgba(0, 0, 0, 0.3));\n",
              "      fill: #FFFFFF;\n",
              "    }\n",
              "  </style>\n",
              "\n",
              "      <script>\n",
              "        const buttonEl =\n",
              "          document.querySelector('#df-0c17c688-7445-4995-b494-c26f7403143f button.colab-df-convert');\n",
              "        buttonEl.style.display =\n",
              "          google.colab.kernel.accessAllowed ? 'block' : 'none';\n",
              "\n",
              "        async function convertToInteractive(key) {\n",
              "          const element = document.querySelector('#df-0c17c688-7445-4995-b494-c26f7403143f');\n",
              "          const dataTable =\n",
              "            await google.colab.kernel.invokeFunction('convertToInteractive',\n",
              "                                                     [key], {});\n",
              "          if (!dataTable) return;\n",
              "\n",
              "          const docLinkHtml = 'Like what you see? Visit the ' +\n",
              "            '<a target=\"_blank\" href=https://colab.research.google.com/notebooks/data_table.ipynb>data table notebook</a>'\n",
              "            + ' to learn more about interactive tables.';\n",
              "          element.innerHTML = '';\n",
              "          dataTable['output_type'] = 'display_data';\n",
              "          await google.colab.output.renderOutput(dataTable, element);\n",
              "          const docLink = document.createElement('div');\n",
              "          docLink.innerHTML = docLinkHtml;\n",
              "          element.appendChild(docLink);\n",
              "        }\n",
              "      </script>\n",
              "    </div>\n",
              "  </div>\n",
              "  "
            ]
          },
          "metadata": {},
          "execution_count": 27
        }
      ],
      "source": [
        "#masukan masing-masing genre dalam satu baris pada atribut genre ke dalam list\n",
        "anime_clean['genre_list'] = anime_clean['genre'].apply(lambda x: [i.strip() for i in x.split(\",\")])\n",
        "\n",
        "#ubah nama yang kurang cocok sesuai format, aplikasikan fungsi transform\n",
        "anime_clean['genre_list'] = anime_clean['genre_list'].apply(lambda x: transform(x))\n",
        "\n",
        "#buat kolom baru bernama genre_clean untuk pembuatan matriks TfidfVectorizer\n",
        "anime_clean['genre_clean'] = anime_clean['genre_list'].apply(lambda x:\" \".join(x))\n",
        "\n",
        "#cek hasil\n",
        "anime_clean.head()"
      ]
    },
    {
      "cell_type": "markdown",
      "id": "03faa47e-0820-418b-8a51-3a1386fda895",
      "metadata": {
        "id": "03faa47e-0820-418b-8a51-3a1386fda895"
      },
      "source": [
        "#### 4. Pemilihan Atribut\n",
        "Untuk membangun sistem rekomendasi berbasis genre, atribut yang akan digunakan yakni anime_id, name, dan genre. Di sisi lain, untuk membangun sistem rekomendasi dengan metode collaborative filtering, atribut yang digunakan yakni user_id, anime_id, dan rating ditambah nama anime dan genre pada dataset anime. Oleh karena itu dilakukan penggabungan data rating dengan anime menggunakan inner join karena tidak semua anime diberikan rating oleh pengguna."
      ]
    },
    {
      "cell_type": "code",
      "execution_count": null,
      "id": "4becf85d-e4e2-47f8-8901-aa7663b852a5",
      "metadata": {
        "id": "4becf85d-e4e2-47f8-8901-aa7663b852a5",
        "outputId": "99f6b452-7aa8-4efc-a33f-c8684ee53520",
        "colab": {
          "base_uri": "https://localhost:8080/",
          "height": 207
        }
      },
      "outputs": [
        {
          "output_type": "execute_result",
          "data": {
            "text/plain": [
              "  anime_id                              name  \\\n",
              "0    32281                    Kimi no Na wa.   \n",
              "1     5114  Fullmetal Alchemist: Brotherhood   \n",
              "2    28977                          Gintama°   \n",
              "3     9253                       Steins;Gate   \n",
              "4     9969                     Gintama&#039;   \n",
              "\n",
              "                                         genre_clean  \\\n",
              "0                  Drama Romance School Supernatural   \n",
              "1  Action Adventure Drama Fantasy Magic Military ...   \n",
              "2  Action Comedy Historical Parody Samurai Sci_Fi...   \n",
              "3                                    Sci_Fi Thriller   \n",
              "4  Action Comedy Historical Parody Samurai Sci_Fi...   \n",
              "\n",
              "                                          genre_list  \n",
              "0             [Drama, Romance, School, Supernatural]  \n",
              "1  [Action, Adventure, Drama, Fantasy, Magic, Mil...  \n",
              "2  [Action, Comedy, Historical, Parody, Samurai, ...  \n",
              "3                                 [Sci_Fi, Thriller]  \n",
              "4  [Action, Comedy, Historical, Parody, Samurai, ...  "
            ],
            "text/html": [
              "\n",
              "  <div id=\"df-00b14361-c9dc-4587-b476-7aad295cdcf4\">\n",
              "    <div class=\"colab-df-container\">\n",
              "      <div>\n",
              "<style scoped>\n",
              "    .dataframe tbody tr th:only-of-type {\n",
              "        vertical-align: middle;\n",
              "    }\n",
              "\n",
              "    .dataframe tbody tr th {\n",
              "        vertical-align: top;\n",
              "    }\n",
              "\n",
              "    .dataframe thead th {\n",
              "        text-align: right;\n",
              "    }\n",
              "</style>\n",
              "<table border=\"1\" class=\"dataframe\">\n",
              "  <thead>\n",
              "    <tr style=\"text-align: right;\">\n",
              "      <th></th>\n",
              "      <th>anime_id</th>\n",
              "      <th>name</th>\n",
              "      <th>genre_clean</th>\n",
              "      <th>genre_list</th>\n",
              "    </tr>\n",
              "  </thead>\n",
              "  <tbody>\n",
              "    <tr>\n",
              "      <th>0</th>\n",
              "      <td>32281</td>\n",
              "      <td>Kimi no Na wa.</td>\n",
              "      <td>Drama Romance School Supernatural</td>\n",
              "      <td>[Drama, Romance, School, Supernatural]</td>\n",
              "    </tr>\n",
              "    <tr>\n",
              "      <th>1</th>\n",
              "      <td>5114</td>\n",
              "      <td>Fullmetal Alchemist: Brotherhood</td>\n",
              "      <td>Action Adventure Drama Fantasy Magic Military ...</td>\n",
              "      <td>[Action, Adventure, Drama, Fantasy, Magic, Mil...</td>\n",
              "    </tr>\n",
              "    <tr>\n",
              "      <th>2</th>\n",
              "      <td>28977</td>\n",
              "      <td>Gintama°</td>\n",
              "      <td>Action Comedy Historical Parody Samurai Sci_Fi...</td>\n",
              "      <td>[Action, Comedy, Historical, Parody, Samurai, ...</td>\n",
              "    </tr>\n",
              "    <tr>\n",
              "      <th>3</th>\n",
              "      <td>9253</td>\n",
              "      <td>Steins;Gate</td>\n",
              "      <td>Sci_Fi Thriller</td>\n",
              "      <td>[Sci_Fi, Thriller]</td>\n",
              "    </tr>\n",
              "    <tr>\n",
              "      <th>4</th>\n",
              "      <td>9969</td>\n",
              "      <td>Gintama&amp;#039;</td>\n",
              "      <td>Action Comedy Historical Parody Samurai Sci_Fi...</td>\n",
              "      <td>[Action, Comedy, Historical, Parody, Samurai, ...</td>\n",
              "    </tr>\n",
              "  </tbody>\n",
              "</table>\n",
              "</div>\n",
              "      <button class=\"colab-df-convert\" onclick=\"convertToInteractive('df-00b14361-c9dc-4587-b476-7aad295cdcf4')\"\n",
              "              title=\"Convert this dataframe to an interactive table.\"\n",
              "              style=\"display:none;\">\n",
              "        \n",
              "  <svg xmlns=\"http://www.w3.org/2000/svg\" height=\"24px\"viewBox=\"0 0 24 24\"\n",
              "       width=\"24px\">\n",
              "    <path d=\"M0 0h24v24H0V0z\" fill=\"none\"/>\n",
              "    <path d=\"M18.56 5.44l.94 2.06.94-2.06 2.06-.94-2.06-.94-.94-2.06-.94 2.06-2.06.94zm-11 1L8.5 8.5l.94-2.06 2.06-.94-2.06-.94L8.5 2.5l-.94 2.06-2.06.94zm10 10l.94 2.06.94-2.06 2.06-.94-2.06-.94-.94-2.06-.94 2.06-2.06.94z\"/><path d=\"M17.41 7.96l-1.37-1.37c-.4-.4-.92-.59-1.43-.59-.52 0-1.04.2-1.43.59L10.3 9.45l-7.72 7.72c-.78.78-.78 2.05 0 2.83L4 21.41c.39.39.9.59 1.41.59.51 0 1.02-.2 1.41-.59l7.78-7.78 2.81-2.81c.8-.78.8-2.07 0-2.86zM5.41 20L4 18.59l7.72-7.72 1.47 1.35L5.41 20z\"/>\n",
              "  </svg>\n",
              "      </button>\n",
              "      \n",
              "  <style>\n",
              "    .colab-df-container {\n",
              "      display:flex;\n",
              "      flex-wrap:wrap;\n",
              "      gap: 12px;\n",
              "    }\n",
              "\n",
              "    .colab-df-convert {\n",
              "      background-color: #E8F0FE;\n",
              "      border: none;\n",
              "      border-radius: 50%;\n",
              "      cursor: pointer;\n",
              "      display: none;\n",
              "      fill: #1967D2;\n",
              "      height: 32px;\n",
              "      padding: 0 0 0 0;\n",
              "      width: 32px;\n",
              "    }\n",
              "\n",
              "    .colab-df-convert:hover {\n",
              "      background-color: #E2EBFA;\n",
              "      box-shadow: 0px 1px 2px rgba(60, 64, 67, 0.3), 0px 1px 3px 1px rgba(60, 64, 67, 0.15);\n",
              "      fill: #174EA6;\n",
              "    }\n",
              "\n",
              "    [theme=dark] .colab-df-convert {\n",
              "      background-color: #3B4455;\n",
              "      fill: #D2E3FC;\n",
              "    }\n",
              "\n",
              "    [theme=dark] .colab-df-convert:hover {\n",
              "      background-color: #434B5C;\n",
              "      box-shadow: 0px 1px 3px 1px rgba(0, 0, 0, 0.15);\n",
              "      filter: drop-shadow(0px 1px 2px rgba(0, 0, 0, 0.3));\n",
              "      fill: #FFFFFF;\n",
              "    }\n",
              "  </style>\n",
              "\n",
              "      <script>\n",
              "        const buttonEl =\n",
              "          document.querySelector('#df-00b14361-c9dc-4587-b476-7aad295cdcf4 button.colab-df-convert');\n",
              "        buttonEl.style.display =\n",
              "          google.colab.kernel.accessAllowed ? 'block' : 'none';\n",
              "\n",
              "        async function convertToInteractive(key) {\n",
              "          const element = document.querySelector('#df-00b14361-c9dc-4587-b476-7aad295cdcf4');\n",
              "          const dataTable =\n",
              "            await google.colab.kernel.invokeFunction('convertToInteractive',\n",
              "                                                     [key], {});\n",
              "          if (!dataTable) return;\n",
              "\n",
              "          const docLinkHtml = 'Like what you see? Visit the ' +\n",
              "            '<a target=\"_blank\" href=https://colab.research.google.com/notebooks/data_table.ipynb>data table notebook</a>'\n",
              "            + ' to learn more about interactive tables.';\n",
              "          element.innerHTML = '';\n",
              "          dataTable['output_type'] = 'display_data';\n",
              "          await google.colab.output.renderOutput(dataTable, element);\n",
              "          const docLink = document.createElement('div');\n",
              "          docLink.innerHTML = docLinkHtml;\n",
              "          element.appendChild(docLink);\n",
              "        }\n",
              "      </script>\n",
              "    </div>\n",
              "  </div>\n",
              "  "
            ]
          },
          "metadata": {},
          "execution_count": 28
        }
      ],
      "source": [
        "#data yang digunakan untuk membangun genre based recommendation system\n",
        "genre_based = anime_clean[['anime_id','name','genre_clean', 'genre_list']]\n",
        "genre_based.head()"
      ]
    },
    {
      "cell_type": "code",
      "execution_count": null,
      "id": "be5d6b10-8721-485a-99c2-2bfba1ebd212",
      "metadata": {
        "id": "be5d6b10-8721-485a-99c2-2bfba1ebd212",
        "outputId": "829d6bd1-60c7-4dc3-a2b4-adde6e96c337",
        "colab": {
          "base_uri": "https://localhost:8080/",
          "height": 207
        }
      },
      "outputs": [
        {
          "output_type": "execute_result",
          "data": {
            "text/plain": [
              "   user_id anime_id  rating                    name  \\\n",
              "0        1     8074      10  Highschool of the Dead   \n",
              "1        3     8074       6  Highschool of the Dead   \n",
              "2        5     8074       2  Highschool of the Dead   \n",
              "3       12     8074       6  Highschool of the Dead   \n",
              "4       14     8074       6  Highschool of the Dead   \n",
              "\n",
              "                        genre_clean                             genre_list  \n",
              "0  Action Ecchi Horror Supernatural  [Action, Ecchi, Horror, Supernatural]  \n",
              "1  Action Ecchi Horror Supernatural  [Action, Ecchi, Horror, Supernatural]  \n",
              "2  Action Ecchi Horror Supernatural  [Action, Ecchi, Horror, Supernatural]  \n",
              "3  Action Ecchi Horror Supernatural  [Action, Ecchi, Horror, Supernatural]  \n",
              "4  Action Ecchi Horror Supernatural  [Action, Ecchi, Horror, Supernatural]  "
            ],
            "text/html": [
              "\n",
              "  <div id=\"df-9b5151dc-f32e-4c7a-9baf-49e65be00197\">\n",
              "    <div class=\"colab-df-container\">\n",
              "      <div>\n",
              "<style scoped>\n",
              "    .dataframe tbody tr th:only-of-type {\n",
              "        vertical-align: middle;\n",
              "    }\n",
              "\n",
              "    .dataframe tbody tr th {\n",
              "        vertical-align: top;\n",
              "    }\n",
              "\n",
              "    .dataframe thead th {\n",
              "        text-align: right;\n",
              "    }\n",
              "</style>\n",
              "<table border=\"1\" class=\"dataframe\">\n",
              "  <thead>\n",
              "    <tr style=\"text-align: right;\">\n",
              "      <th></th>\n",
              "      <th>user_id</th>\n",
              "      <th>anime_id</th>\n",
              "      <th>rating</th>\n",
              "      <th>name</th>\n",
              "      <th>genre_clean</th>\n",
              "      <th>genre_list</th>\n",
              "    </tr>\n",
              "  </thead>\n",
              "  <tbody>\n",
              "    <tr>\n",
              "      <th>0</th>\n",
              "      <td>1</td>\n",
              "      <td>8074</td>\n",
              "      <td>10</td>\n",
              "      <td>Highschool of the Dead</td>\n",
              "      <td>Action Ecchi Horror Supernatural</td>\n",
              "      <td>[Action, Ecchi, Horror, Supernatural]</td>\n",
              "    </tr>\n",
              "    <tr>\n",
              "      <th>1</th>\n",
              "      <td>3</td>\n",
              "      <td>8074</td>\n",
              "      <td>6</td>\n",
              "      <td>Highschool of the Dead</td>\n",
              "      <td>Action Ecchi Horror Supernatural</td>\n",
              "      <td>[Action, Ecchi, Horror, Supernatural]</td>\n",
              "    </tr>\n",
              "    <tr>\n",
              "      <th>2</th>\n",
              "      <td>5</td>\n",
              "      <td>8074</td>\n",
              "      <td>2</td>\n",
              "      <td>Highschool of the Dead</td>\n",
              "      <td>Action Ecchi Horror Supernatural</td>\n",
              "      <td>[Action, Ecchi, Horror, Supernatural]</td>\n",
              "    </tr>\n",
              "    <tr>\n",
              "      <th>3</th>\n",
              "      <td>12</td>\n",
              "      <td>8074</td>\n",
              "      <td>6</td>\n",
              "      <td>Highschool of the Dead</td>\n",
              "      <td>Action Ecchi Horror Supernatural</td>\n",
              "      <td>[Action, Ecchi, Horror, Supernatural]</td>\n",
              "    </tr>\n",
              "    <tr>\n",
              "      <th>4</th>\n",
              "      <td>14</td>\n",
              "      <td>8074</td>\n",
              "      <td>6</td>\n",
              "      <td>Highschool of the Dead</td>\n",
              "      <td>Action Ecchi Horror Supernatural</td>\n",
              "      <td>[Action, Ecchi, Horror, Supernatural]</td>\n",
              "    </tr>\n",
              "  </tbody>\n",
              "</table>\n",
              "</div>\n",
              "      <button class=\"colab-df-convert\" onclick=\"convertToInteractive('df-9b5151dc-f32e-4c7a-9baf-49e65be00197')\"\n",
              "              title=\"Convert this dataframe to an interactive table.\"\n",
              "              style=\"display:none;\">\n",
              "        \n",
              "  <svg xmlns=\"http://www.w3.org/2000/svg\" height=\"24px\"viewBox=\"0 0 24 24\"\n",
              "       width=\"24px\">\n",
              "    <path d=\"M0 0h24v24H0V0z\" fill=\"none\"/>\n",
              "    <path d=\"M18.56 5.44l.94 2.06.94-2.06 2.06-.94-2.06-.94-.94-2.06-.94 2.06-2.06.94zm-11 1L8.5 8.5l.94-2.06 2.06-.94-2.06-.94L8.5 2.5l-.94 2.06-2.06.94zm10 10l.94 2.06.94-2.06 2.06-.94-2.06-.94-.94-2.06-.94 2.06-2.06.94z\"/><path d=\"M17.41 7.96l-1.37-1.37c-.4-.4-.92-.59-1.43-.59-.52 0-1.04.2-1.43.59L10.3 9.45l-7.72 7.72c-.78.78-.78 2.05 0 2.83L4 21.41c.39.39.9.59 1.41.59.51 0 1.02-.2 1.41-.59l7.78-7.78 2.81-2.81c.8-.78.8-2.07 0-2.86zM5.41 20L4 18.59l7.72-7.72 1.47 1.35L5.41 20z\"/>\n",
              "  </svg>\n",
              "      </button>\n",
              "      \n",
              "  <style>\n",
              "    .colab-df-container {\n",
              "      display:flex;\n",
              "      flex-wrap:wrap;\n",
              "      gap: 12px;\n",
              "    }\n",
              "\n",
              "    .colab-df-convert {\n",
              "      background-color: #E8F0FE;\n",
              "      border: none;\n",
              "      border-radius: 50%;\n",
              "      cursor: pointer;\n",
              "      display: none;\n",
              "      fill: #1967D2;\n",
              "      height: 32px;\n",
              "      padding: 0 0 0 0;\n",
              "      width: 32px;\n",
              "    }\n",
              "\n",
              "    .colab-df-convert:hover {\n",
              "      background-color: #E2EBFA;\n",
              "      box-shadow: 0px 1px 2px rgba(60, 64, 67, 0.3), 0px 1px 3px 1px rgba(60, 64, 67, 0.15);\n",
              "      fill: #174EA6;\n",
              "    }\n",
              "\n",
              "    [theme=dark] .colab-df-convert {\n",
              "      background-color: #3B4455;\n",
              "      fill: #D2E3FC;\n",
              "    }\n",
              "\n",
              "    [theme=dark] .colab-df-convert:hover {\n",
              "      background-color: #434B5C;\n",
              "      box-shadow: 0px 1px 3px 1px rgba(0, 0, 0, 0.15);\n",
              "      filter: drop-shadow(0px 1px 2px rgba(0, 0, 0, 0.3));\n",
              "      fill: #FFFFFF;\n",
              "    }\n",
              "  </style>\n",
              "\n",
              "      <script>\n",
              "        const buttonEl =\n",
              "          document.querySelector('#df-9b5151dc-f32e-4c7a-9baf-49e65be00197 button.colab-df-convert');\n",
              "        buttonEl.style.display =\n",
              "          google.colab.kernel.accessAllowed ? 'block' : 'none';\n",
              "\n",
              "        async function convertToInteractive(key) {\n",
              "          const element = document.querySelector('#df-9b5151dc-f32e-4c7a-9baf-49e65be00197');\n",
              "          const dataTable =\n",
              "            await google.colab.kernel.invokeFunction('convertToInteractive',\n",
              "                                                     [key], {});\n",
              "          if (!dataTable) return;\n",
              "\n",
              "          const docLinkHtml = 'Like what you see? Visit the ' +\n",
              "            '<a target=\"_blank\" href=https://colab.research.google.com/notebooks/data_table.ipynb>data table notebook</a>'\n",
              "            + ' to learn more about interactive tables.';\n",
              "          element.innerHTML = '';\n",
              "          dataTable['output_type'] = 'display_data';\n",
              "          await google.colab.output.renderOutput(dataTable, element);\n",
              "          const docLink = document.createElement('div');\n",
              "          docLink.innerHTML = docLinkHtml;\n",
              "          element.appendChild(docLink);\n",
              "        }\n",
              "      </script>\n",
              "    </div>\n",
              "  </div>\n",
              "  "
            ]
          },
          "metadata": {},
          "execution_count": 29
        }
      ],
      "source": [
        "#data yang digunakan untuk membangun collaborative filtering recommendation system\n",
        "col_fil = rating_clean.merge(genre_based,'inner')\n",
        "col_fil.head()"
      ]
    },
    {
      "cell_type": "markdown",
      "id": "5ce1faa9",
      "metadata": {
        "id": "5ce1faa9"
      },
      "source": [
        "#### 5. Melakukan Encoding Atribut \"user_id\" dan \"anime_id\" (Collaborative Filtering)\n",
        "\n",
        "Model collaborative filtering yang akan dibangun memanfaatkan model deep learning sehingga perlu dilakukan pemrosesan awal pada data seperti encoding atribut yang bersangkutan. Pada tahap ini dilakukan proses encoding atribut \"user_id\" dan \"anime_id\" ke dalam bilangan integer. Setelah itu, kedua atribut dipetakan ke dalam dataframe yang berkaitan yakni \"col_fil\". Terakhir adalah memastikan bahwa atribut rating memiliki tipe data float. Berhubung atribut ini masih berupa integer, maka dilakukan perubahan tipe data menjadi float."
      ]
    },
    {
      "cell_type": "code",
      "execution_count": null,
      "id": "cf0b56ca",
      "metadata": {
        "id": "cf0b56ca"
      },
      "outputs": [],
      "source": [
        "# mengubah user_id menjadi list tanpa nilai yang sama\n",
        "user_ids = col_fil['user_id'].sort_values().unique().tolist()\n",
        "     \n",
        "# melakukan encoding user_id\n",
        "user_to_user_encoded = {x: i for i, x in enumerate(user_ids)}\n",
        "     \n",
        "# melakukan proses encoding angka ke ke user_id\n",
        "user_encoded_to_user = {i: x for i, x in enumerate(user_ids)}"
      ]
    },
    {
      "cell_type": "code",
      "execution_count": null,
      "id": "a3411c28",
      "metadata": {
        "id": "a3411c28"
      },
      "outputs": [],
      "source": [
        "# mengubah anime_id menjadi list tanpa nilai yang sama\n",
        "anime_ids = col_fil['anime_id'].unique().tolist()\n",
        "     \n",
        "# melakukan proses encoding anime_id\n",
        "anime_to_anime_encoded = {x: i for i, x in enumerate(anime_ids)}\n",
        "     \n",
        "# melakukan proses encoding angka ke anime_id\n",
        "anime_encoded_to_anime = {i: x for i, x in enumerate(anime_ids)}"
      ]
    },
    {
      "cell_type": "code",
      "execution_count": null,
      "id": "3f9ac778",
      "metadata": {
        "id": "3f9ac778"
      },
      "outputs": [],
      "source": [
        "# mapping user_id ke dataframe user \n",
        "col_fil['user'] = col_fil['user_id'].map(user_to_user_encoded)\n",
        "     \n",
        "# mapping place_id ke dataframe anime\n",
        "col_fil['anime'] = col_fil['anime_id'].map(anime_to_anime_encoded)"
      ]
    },
    {
      "cell_type": "code",
      "execution_count": null,
      "id": "3845c854",
      "metadata": {
        "id": "3845c854",
        "outputId": "6d2580a4-6141-40d4-b2bc-543f82ebfd02",
        "colab": {
          "base_uri": "https://localhost:8080/"
        }
      },
      "outputs": [
        {
          "output_type": "stream",
          "name": "stdout",
          "text": [
            "Jumlah user: 69600\n",
            "Jumlah anime: 9894\n",
            "Minimum rating: 1.0\n",
            "Maksimum rating: 10.0\n"
          ]
        }
      ],
      "source": [
        "# mendapatkan jumlah user \n",
        "num_users = len(user_to_user_encoded)\n",
        "print(f\"Jumlah user: {num_users}\")\n",
        "     \n",
        "# mendapatkan jumlah anime\n",
        "num_anime = len(anime_to_anime_encoded)\n",
        "print(f\"Jumlah anime: {num_anime}\")\n",
        "     \n",
        "# mengubah tipe data rating menjadi float\n",
        "col_fil['rating'] = col_fil['rating'].values.astype(np.float32)\n",
        "     \n",
        "# nilai minimum rating\n",
        "min_rating = min(col_fil['rating'])\n",
        "print(f\"Minimum rating: {min_rating}\")\n",
        "     \n",
        "# nilai maksimal rating\n",
        "max_rating = max(col_fil['rating'])\n",
        "print(f\"Maksimum rating: {max_rating}\")"
      ]
    },
    {
      "cell_type": "code",
      "execution_count": null,
      "id": "d8bb02a7",
      "metadata": {
        "id": "d8bb02a7",
        "outputId": "713284ce-61d3-4e76-f2e3-ffe8b99f3b96",
        "colab": {
          "base_uri": "https://localhost:8080/",
          "height": 207
        }
      },
      "outputs": [
        {
          "output_type": "execute_result",
          "data": {
            "text/plain": [
              "   user_id anime_id  rating                    name  \\\n",
              "0        1     8074    10.0  Highschool of the Dead   \n",
              "1        3     8074     6.0  Highschool of the Dead   \n",
              "2        5     8074     2.0  Highschool of the Dead   \n",
              "3       12     8074     6.0  Highschool of the Dead   \n",
              "4       14     8074     6.0  Highschool of the Dead   \n",
              "\n",
              "                        genre_clean                             genre_list  \\\n",
              "0  Action Ecchi Horror Supernatural  [Action, Ecchi, Horror, Supernatural]   \n",
              "1  Action Ecchi Horror Supernatural  [Action, Ecchi, Horror, Supernatural]   \n",
              "2  Action Ecchi Horror Supernatural  [Action, Ecchi, Horror, Supernatural]   \n",
              "3  Action Ecchi Horror Supernatural  [Action, Ecchi, Horror, Supernatural]   \n",
              "4  Action Ecchi Horror Supernatural  [Action, Ecchi, Horror, Supernatural]   \n",
              "\n",
              "   user  anime  \n",
              "0     0      0  \n",
              "1     2      0  \n",
              "2     3      0  \n",
              "3     9      0  \n",
              "4    10      0  "
            ],
            "text/html": [
              "\n",
              "  <div id=\"df-57a4afcb-6c1f-4f93-872f-abff547afd93\">\n",
              "    <div class=\"colab-df-container\">\n",
              "      <div>\n",
              "<style scoped>\n",
              "    .dataframe tbody tr th:only-of-type {\n",
              "        vertical-align: middle;\n",
              "    }\n",
              "\n",
              "    .dataframe tbody tr th {\n",
              "        vertical-align: top;\n",
              "    }\n",
              "\n",
              "    .dataframe thead th {\n",
              "        text-align: right;\n",
              "    }\n",
              "</style>\n",
              "<table border=\"1\" class=\"dataframe\">\n",
              "  <thead>\n",
              "    <tr style=\"text-align: right;\">\n",
              "      <th></th>\n",
              "      <th>user_id</th>\n",
              "      <th>anime_id</th>\n",
              "      <th>rating</th>\n",
              "      <th>name</th>\n",
              "      <th>genre_clean</th>\n",
              "      <th>genre_list</th>\n",
              "      <th>user</th>\n",
              "      <th>anime</th>\n",
              "    </tr>\n",
              "  </thead>\n",
              "  <tbody>\n",
              "    <tr>\n",
              "      <th>0</th>\n",
              "      <td>1</td>\n",
              "      <td>8074</td>\n",
              "      <td>10.0</td>\n",
              "      <td>Highschool of the Dead</td>\n",
              "      <td>Action Ecchi Horror Supernatural</td>\n",
              "      <td>[Action, Ecchi, Horror, Supernatural]</td>\n",
              "      <td>0</td>\n",
              "      <td>0</td>\n",
              "    </tr>\n",
              "    <tr>\n",
              "      <th>1</th>\n",
              "      <td>3</td>\n",
              "      <td>8074</td>\n",
              "      <td>6.0</td>\n",
              "      <td>Highschool of the Dead</td>\n",
              "      <td>Action Ecchi Horror Supernatural</td>\n",
              "      <td>[Action, Ecchi, Horror, Supernatural]</td>\n",
              "      <td>2</td>\n",
              "      <td>0</td>\n",
              "    </tr>\n",
              "    <tr>\n",
              "      <th>2</th>\n",
              "      <td>5</td>\n",
              "      <td>8074</td>\n",
              "      <td>2.0</td>\n",
              "      <td>Highschool of the Dead</td>\n",
              "      <td>Action Ecchi Horror Supernatural</td>\n",
              "      <td>[Action, Ecchi, Horror, Supernatural]</td>\n",
              "      <td>3</td>\n",
              "      <td>0</td>\n",
              "    </tr>\n",
              "    <tr>\n",
              "      <th>3</th>\n",
              "      <td>12</td>\n",
              "      <td>8074</td>\n",
              "      <td>6.0</td>\n",
              "      <td>Highschool of the Dead</td>\n",
              "      <td>Action Ecchi Horror Supernatural</td>\n",
              "      <td>[Action, Ecchi, Horror, Supernatural]</td>\n",
              "      <td>9</td>\n",
              "      <td>0</td>\n",
              "    </tr>\n",
              "    <tr>\n",
              "      <th>4</th>\n",
              "      <td>14</td>\n",
              "      <td>8074</td>\n",
              "      <td>6.0</td>\n",
              "      <td>Highschool of the Dead</td>\n",
              "      <td>Action Ecchi Horror Supernatural</td>\n",
              "      <td>[Action, Ecchi, Horror, Supernatural]</td>\n",
              "      <td>10</td>\n",
              "      <td>0</td>\n",
              "    </tr>\n",
              "  </tbody>\n",
              "</table>\n",
              "</div>\n",
              "      <button class=\"colab-df-convert\" onclick=\"convertToInteractive('df-57a4afcb-6c1f-4f93-872f-abff547afd93')\"\n",
              "              title=\"Convert this dataframe to an interactive table.\"\n",
              "              style=\"display:none;\">\n",
              "        \n",
              "  <svg xmlns=\"http://www.w3.org/2000/svg\" height=\"24px\"viewBox=\"0 0 24 24\"\n",
              "       width=\"24px\">\n",
              "    <path d=\"M0 0h24v24H0V0z\" fill=\"none\"/>\n",
              "    <path d=\"M18.56 5.44l.94 2.06.94-2.06 2.06-.94-2.06-.94-.94-2.06-.94 2.06-2.06.94zm-11 1L8.5 8.5l.94-2.06 2.06-.94-2.06-.94L8.5 2.5l-.94 2.06-2.06.94zm10 10l.94 2.06.94-2.06 2.06-.94-2.06-.94-.94-2.06-.94 2.06-2.06.94z\"/><path d=\"M17.41 7.96l-1.37-1.37c-.4-.4-.92-.59-1.43-.59-.52 0-1.04.2-1.43.59L10.3 9.45l-7.72 7.72c-.78.78-.78 2.05 0 2.83L4 21.41c.39.39.9.59 1.41.59.51 0 1.02-.2 1.41-.59l7.78-7.78 2.81-2.81c.8-.78.8-2.07 0-2.86zM5.41 20L4 18.59l7.72-7.72 1.47 1.35L5.41 20z\"/>\n",
              "  </svg>\n",
              "      </button>\n",
              "      \n",
              "  <style>\n",
              "    .colab-df-container {\n",
              "      display:flex;\n",
              "      flex-wrap:wrap;\n",
              "      gap: 12px;\n",
              "    }\n",
              "\n",
              "    .colab-df-convert {\n",
              "      background-color: #E8F0FE;\n",
              "      border: none;\n",
              "      border-radius: 50%;\n",
              "      cursor: pointer;\n",
              "      display: none;\n",
              "      fill: #1967D2;\n",
              "      height: 32px;\n",
              "      padding: 0 0 0 0;\n",
              "      width: 32px;\n",
              "    }\n",
              "\n",
              "    .colab-df-convert:hover {\n",
              "      background-color: #E2EBFA;\n",
              "      box-shadow: 0px 1px 2px rgba(60, 64, 67, 0.3), 0px 1px 3px 1px rgba(60, 64, 67, 0.15);\n",
              "      fill: #174EA6;\n",
              "    }\n",
              "\n",
              "    [theme=dark] .colab-df-convert {\n",
              "      background-color: #3B4455;\n",
              "      fill: #D2E3FC;\n",
              "    }\n",
              "\n",
              "    [theme=dark] .colab-df-convert:hover {\n",
              "      background-color: #434B5C;\n",
              "      box-shadow: 0px 1px 3px 1px rgba(0, 0, 0, 0.15);\n",
              "      filter: drop-shadow(0px 1px 2px rgba(0, 0, 0, 0.3));\n",
              "      fill: #FFFFFF;\n",
              "    }\n",
              "  </style>\n",
              "\n",
              "      <script>\n",
              "        const buttonEl =\n",
              "          document.querySelector('#df-57a4afcb-6c1f-4f93-872f-abff547afd93 button.colab-df-convert');\n",
              "        buttonEl.style.display =\n",
              "          google.colab.kernel.accessAllowed ? 'block' : 'none';\n",
              "\n",
              "        async function convertToInteractive(key) {\n",
              "          const element = document.querySelector('#df-57a4afcb-6c1f-4f93-872f-abff547afd93');\n",
              "          const dataTable =\n",
              "            await google.colab.kernel.invokeFunction('convertToInteractive',\n",
              "                                                     [key], {});\n",
              "          if (!dataTable) return;\n",
              "\n",
              "          const docLinkHtml = 'Like what you see? Visit the ' +\n",
              "            '<a target=\"_blank\" href=https://colab.research.google.com/notebooks/data_table.ipynb>data table notebook</a>'\n",
              "            + ' to learn more about interactive tables.';\n",
              "          element.innerHTML = '';\n",
              "          dataTable['output_type'] = 'display_data';\n",
              "          await google.colab.output.renderOutput(dataTable, element);\n",
              "          const docLink = document.createElement('div');\n",
              "          docLink.innerHTML = docLinkHtml;\n",
              "          element.appendChild(docLink);\n",
              "        }\n",
              "      </script>\n",
              "    </div>\n",
              "  </div>\n",
              "  "
            ]
          },
          "metadata": {},
          "execution_count": 34
        }
      ],
      "source": [
        "col_fil.head()"
      ]
    },
    {
      "cell_type": "markdown",
      "id": "2812b60a",
      "metadata": {
        "id": "2812b60a"
      },
      "source": [
        "#### 6. Membagi Dataset Menjadi Train dan Validation (Collaborative Filtering)\n",
        "Setelah melakukan encoding, selanjutnya melakukan pembagian dataset dengan persentase 80% untuk pelatihan dan 20% untuk validasi. Supaya pembagian data terdistribusi secara random maka dilakukan pengacakan terlebih dahulu pada dataset rating. Variabel independent (x) yang akan digunakan yakni atribut user dan anime sedangkan variabel dependennya (y) adalah rating yang telah dinormalisasi supaya memudahkan dalam proses pemodelan. Metode normalisasi yang digunakan yakni min max scaler.\n",
        "\n",
        "<img src=\"https://www.oreilly.com/library/view/regression-analysis-with/9781788627306/assets/ffb3ac78-fd6f-4340-aa92-cde8ae0322d6.png\" width=300>"
      ]
    },
    {
      "cell_type": "code",
      "execution_count": null,
      "id": "7e15a9e4",
      "metadata": {
        "id": "7e15a9e4"
      },
      "outputs": [],
      "source": [
        "#variabel independen\n",
        "x = col_fil[['user', 'anime']].values\n",
        " \n",
        "# pemilihan rating sebagai var dependen dengan normalisasi min max \n",
        "y = col_fil['rating'].apply(lambda x: (x - min_rating) / (max_rating - min_rating)).values\n",
        " \n",
        "# membagi data menjadi 80% data train dan 20% data validasi\n",
        "train_idx = int(0.8 * col_fil.shape[0])\n",
        "x_train, x_val, y_train, y_val = (x[:train_idx], x[train_idx:], y[:train_idx], y[train_idx:])"
      ]
    },
    {
      "cell_type": "markdown",
      "id": "f5dc8f2d-e541-4bca-9fff-3ffd7504c72d",
      "metadata": {
        "id": "f5dc8f2d-e541-4bca-9fff-3ffd7504c72d"
      },
      "source": [
        "## Modeling and Result"
      ]
    },
    {
      "cell_type": "markdown",
      "id": "990e9c71-a9af-4d66-8749-695a08c0d686",
      "metadata": {
        "id": "990e9c71-a9af-4d66-8749-695a08c0d686"
      },
      "source": [
        "### 1. Content Based Filtering"
      ]
    },
    {
      "cell_type": "markdown",
      "id": "e9ddb5fa-a8f0-49c7-9928-4932442fb1f8",
      "metadata": {
        "id": "e9ddb5fa-a8f0-49c7-9928-4932442fb1f8"
      },
      "source": [
        "Content based filtering merupakan sistem rekomendasi personalized yang merekomendasikan item yang mirip dengan item yang disukai pengguna di masa lampau. Algoritma ini bekerja dengan memberikan saran berdasarkan kemiripan item yang direkomendasikan dengan item yang disukai dari data objek seperti genre anime, penulis, sutradara, artis dan lain-lain. Berikut merupakan ilustrasi sistem rekomendasi yang akan dibuat berdasarkan kemiripan genre.\n",
        "\n",
        "<img src=\"https://user-images.githubusercontent.com/61647791/164959912-a113ff8b-4961-4c55-a377-3aa1ec196f40.png\" width=500>\n",
        "\n",
        "Menurut Lops dkk. (2010) sistem rekomendasi berbasis konten memiliki keunggulan serta kekurangan sebagai berikut:\n",
        "\n",
        "**Keunggulan:**\n",
        "- **User independence**: Sistem rekomendasi tidak bergantung pada user lainnya. Sistem membangun profil dengan cara mengeksploitasi penilaian pengguna aktif.\n",
        "- **Transparency**: Cara kerja sistem rekomendasi dijelaskan dengan rinci dalam memunculkan item yang relevan berdasarkan fitur konten.\n",
        "- **New Item:** Mampu merekomendasikan item yang belum pernah dinilai oleh pengguna.\n",
        "\n",
        "**Kekurangan:**\n",
        "- **Limited Content Analysis:** Memiliki keterbatasan dalam jumlah maupun jenis fitur yang terkait, begitupula dengan item-item yang disarankan.  \n",
        "- **Over-Specialization:** Sistem tidak memiliki metode yang melekat untuk menemukan sesuatu yang tidak terduga. Sistem akan menunjukkan item yang nilainya tinggi, kemudian dicocokkan dengan profil pengguna, sehingga akan selalu menemukan item serupa seperti yang sudah direkomendasikan sebelumnya.\n",
        "- **New User:** Sistem tidak dapat memberikan rekomendasi yang handal pada pengguna baru, dikarenakan membutuhkan penelusuran terkait preferensi pengguna.\n",
        "\n",
        "\n",
        "Untuk membangun sistem rekomendasi berbasis konten, khususnya genre hal pertama yang harus dilakukan adalah membuat matriks korelasi anime dengan genre berukuran (mxn) di mana m menunjukkan nama anime, sedangkan n menunjukkan genre. Untuk membuat matriks tersebut kita akan menggunakan TfidfVectorizer dari library scikit-learn. Berikut merupakan tahapan coding pembuatan matriks korelasi anime dengan genre."
      ]
    },
    {
      "cell_type": "code",
      "execution_count": null,
      "id": "515320ee-f743-4992-83dd-36ae0dd3c914",
      "metadata": {
        "id": "515320ee-f743-4992-83dd-36ae0dd3c914",
        "outputId": "763a5690-2f99-4af7-ebc5-296d776f3ae8",
        "colab": {
          "base_uri": "https://localhost:8080/"
        }
      },
      "outputs": [
        {
          "output_type": "execute_result",
          "data": {
            "text/plain": [
              "TfidfVectorizer()"
            ]
          },
          "metadata": {},
          "execution_count": 36
        }
      ],
      "source": [
        "#membuat matriks\n",
        "\n",
        "tf_ = TfidfVectorizer()\n",
        "tf_.fit(genre_based['genre_clean'])\n",
        "\n",
        "#cek jenis-jenis genre anime\n",
        "#tf_.get_feature_names()"
      ]
    },
    {
      "cell_type": "code",
      "execution_count": null,
      "id": "d0daae1c-4440-4d30-8be7-a800958698bd",
      "metadata": {
        "id": "d0daae1c-4440-4d30-8be7-a800958698bd",
        "outputId": "ac2955ae-809b-4485-e3ba-de7ca59543dd",
        "colab": {
          "base_uri": "https://localhost:8080/"
        }
      },
      "outputs": [
        {
          "output_type": "execute_result",
          "data": {
            "text/plain": [
              "(12232, 43)"
            ]
          },
          "metadata": {},
          "execution_count": 37
        }
      ],
      "source": [
        "# Melakukan fit kemudian transformasi ke dalam bentuk matrix\n",
        "tfidf_matrix = tf_.fit_transform(genre_based['genre_clean']) \n",
        "    \n",
        "# Melihat ukuran matrix tfidf\n",
        "tfidf_matrix.shape "
      ]
    },
    {
      "cell_type": "code",
      "execution_count": null,
      "id": "a7704d8f-c45d-4ac8-aad3-80d5f1042f0e",
      "metadata": {
        "id": "a7704d8f-c45d-4ac8-aad3-80d5f1042f0e",
        "outputId": "1de2d89e-4a18-4742-f4b3-5e53bcbd8155",
        "colab": {
          "base_uri": "https://localhost:8080/"
        }
      },
      "outputs": [
        {
          "output_type": "execute_result",
          "data": {
            "text/plain": [
              "matrix([[0.        , 0.        , 0.        , ..., 0.        , 0.        ,\n",
              "         0.        ],\n",
              "        [0.29404249, 0.31699975, 0.        , ..., 0.        , 0.        ,\n",
              "         0.        ],\n",
              "        [0.26080455, 0.        , 0.        , ..., 0.        , 0.        ,\n",
              "         0.        ],\n",
              "        ...,\n",
              "        [0.        , 0.        , 0.        , ..., 0.        , 0.        ,\n",
              "         0.        ],\n",
              "        [0.        , 0.        , 0.        , ..., 0.        , 0.        ,\n",
              "         0.        ],\n",
              "        [0.        , 0.        , 0.        , ..., 0.        , 0.        ,\n",
              "         0.        ]])"
            ]
          },
          "metadata": {},
          "execution_count": 38
        }
      ],
      "source": [
        "tfidf_matrix.todense()"
      ]
    },
    {
      "cell_type": "code",
      "execution_count": null,
      "id": "02f00b0b-7dbb-463a-a881-d4b6c2db9708",
      "metadata": {
        "id": "02f00b0b-7dbb-463a-a881-d4b6c2db9708",
        "outputId": "aa70c446-b999-43a5-d7ad-152b4d2ec1fc",
        "colab": {
          "base_uri": "https://localhost:8080/",
          "height": 395
        }
      },
      "outputs": [
        {
          "output_type": "execute_result",
          "data": {
            "text/plain": [
              "                                            magic  military  parody  yaoi  \\\n",
              "name                                                                        \n",
              "Corpse Party: Missing Footage                 0.0       0.0     0.0   0.0   \n",
              "Michi (Music)                                 0.0       0.0     0.0   0.0   \n",
              "Nekomonogatari: Kuro                          0.0       0.0     0.0   0.0   \n",
              "Ghibli ga Ippai Special Short Short           0.0       0.0     0.0   0.0   \n",
              "Kero Kero Keroppi no Sanjuushi                0.0       0.0     0.0   0.0   \n",
              "Isshuukan Friends.: Tomodachi to no Omoide    0.0       0.0     0.0   0.0   \n",
              "91 Days Recap                                 0.0       0.0     0.0   0.0   \n",
              "Fuku-chan                                     0.0       0.0     0.0   0.0   \n",
              "Ikkyuu-san: Haru Da! Yancha Hime              0.0       0.0     0.0   0.0   \n",
              "Crusher Joe: The Movie                        0.0       0.0     0.0   0.0   \n",
              "\n",
              "                                            historical  psychological  police  \\\n",
              "name                                                                            \n",
              "Corpse Party: Missing Footage                 0.000000            0.0     0.0   \n",
              "Michi (Music)                                 0.000000            0.0     0.0   \n",
              "Nekomonogatari: Kuro                          0.000000            0.0     0.0   \n",
              "Ghibli ga Ippai Special Short Short           0.000000            0.0     0.0   \n",
              "Kero Kero Keroppi no Sanjuushi                0.000000            0.0     0.0   \n",
              "Isshuukan Friends.: Tomodachi to no Omoide    0.000000            0.0     0.0   \n",
              "91 Days Recap                                 0.706223            0.0     0.0   \n",
              "Fuku-chan                                     0.000000            0.0     0.0   \n",
              "Ikkyuu-san: Haru Da! Yancha Hime              0.717375            0.0     0.0   \n",
              "Crusher Joe: The Movie                        0.000000            0.0     0.0   \n",
              "\n",
              "                                            shoujo_ai  mecha    horror  \n",
              "name                                                                    \n",
              "Corpse Party: Missing Footage                     0.0    0.0  0.805922  \n",
              "Michi (Music)                                     0.0    0.0  0.000000  \n",
              "Nekomonogatari: Kuro                              0.0    0.0  0.000000  \n",
              "Ghibli ga Ippai Special Short Short               0.0    0.0  0.000000  \n",
              "Kero Kero Keroppi no Sanjuushi                    0.0    0.0  0.000000  \n",
              "Isshuukan Friends.: Tomodachi to no Omoide        0.0    0.0  0.000000  \n",
              "91 Days Recap                                     0.0    0.0  0.000000  \n",
              "Fuku-chan                                         0.0    0.0  0.000000  \n",
              "Ikkyuu-san: Haru Da! Yancha Hime                  0.0    0.0  0.000000  \n",
              "Crusher Joe: The Movie                            0.0    0.0  0.000000  "
            ],
            "text/html": [
              "\n",
              "  <div id=\"df-6e5055da-29cd-477a-93f0-d2d23415605e\">\n",
              "    <div class=\"colab-df-container\">\n",
              "      <div>\n",
              "<style scoped>\n",
              "    .dataframe tbody tr th:only-of-type {\n",
              "        vertical-align: middle;\n",
              "    }\n",
              "\n",
              "    .dataframe tbody tr th {\n",
              "        vertical-align: top;\n",
              "    }\n",
              "\n",
              "    .dataframe thead th {\n",
              "        text-align: right;\n",
              "    }\n",
              "</style>\n",
              "<table border=\"1\" class=\"dataframe\">\n",
              "  <thead>\n",
              "    <tr style=\"text-align: right;\">\n",
              "      <th></th>\n",
              "      <th>magic</th>\n",
              "      <th>military</th>\n",
              "      <th>parody</th>\n",
              "      <th>yaoi</th>\n",
              "      <th>historical</th>\n",
              "      <th>psychological</th>\n",
              "      <th>police</th>\n",
              "      <th>shoujo_ai</th>\n",
              "      <th>mecha</th>\n",
              "      <th>horror</th>\n",
              "    </tr>\n",
              "    <tr>\n",
              "      <th>name</th>\n",
              "      <th></th>\n",
              "      <th></th>\n",
              "      <th></th>\n",
              "      <th></th>\n",
              "      <th></th>\n",
              "      <th></th>\n",
              "      <th></th>\n",
              "      <th></th>\n",
              "      <th></th>\n",
              "      <th></th>\n",
              "    </tr>\n",
              "  </thead>\n",
              "  <tbody>\n",
              "    <tr>\n",
              "      <th>Corpse Party: Missing Footage</th>\n",
              "      <td>0.0</td>\n",
              "      <td>0.0</td>\n",
              "      <td>0.0</td>\n",
              "      <td>0.0</td>\n",
              "      <td>0.000000</td>\n",
              "      <td>0.0</td>\n",
              "      <td>0.0</td>\n",
              "      <td>0.0</td>\n",
              "      <td>0.0</td>\n",
              "      <td>0.805922</td>\n",
              "    </tr>\n",
              "    <tr>\n",
              "      <th>Michi (Music)</th>\n",
              "      <td>0.0</td>\n",
              "      <td>0.0</td>\n",
              "      <td>0.0</td>\n",
              "      <td>0.0</td>\n",
              "      <td>0.000000</td>\n",
              "      <td>0.0</td>\n",
              "      <td>0.0</td>\n",
              "      <td>0.0</td>\n",
              "      <td>0.0</td>\n",
              "      <td>0.000000</td>\n",
              "    </tr>\n",
              "    <tr>\n",
              "      <th>Nekomonogatari: Kuro</th>\n",
              "      <td>0.0</td>\n",
              "      <td>0.0</td>\n",
              "      <td>0.0</td>\n",
              "      <td>0.0</td>\n",
              "      <td>0.000000</td>\n",
              "      <td>0.0</td>\n",
              "      <td>0.0</td>\n",
              "      <td>0.0</td>\n",
              "      <td>0.0</td>\n",
              "      <td>0.000000</td>\n",
              "    </tr>\n",
              "    <tr>\n",
              "      <th>Ghibli ga Ippai Special Short Short</th>\n",
              "      <td>0.0</td>\n",
              "      <td>0.0</td>\n",
              "      <td>0.0</td>\n",
              "      <td>0.0</td>\n",
              "      <td>0.000000</td>\n",
              "      <td>0.0</td>\n",
              "      <td>0.0</td>\n",
              "      <td>0.0</td>\n",
              "      <td>0.0</td>\n",
              "      <td>0.000000</td>\n",
              "    </tr>\n",
              "    <tr>\n",
              "      <th>Kero Kero Keroppi no Sanjuushi</th>\n",
              "      <td>0.0</td>\n",
              "      <td>0.0</td>\n",
              "      <td>0.0</td>\n",
              "      <td>0.0</td>\n",
              "      <td>0.000000</td>\n",
              "      <td>0.0</td>\n",
              "      <td>0.0</td>\n",
              "      <td>0.0</td>\n",
              "      <td>0.0</td>\n",
              "      <td>0.000000</td>\n",
              "    </tr>\n",
              "    <tr>\n",
              "      <th>Isshuukan Friends.: Tomodachi to no Omoide</th>\n",
              "      <td>0.0</td>\n",
              "      <td>0.0</td>\n",
              "      <td>0.0</td>\n",
              "      <td>0.0</td>\n",
              "      <td>0.000000</td>\n",
              "      <td>0.0</td>\n",
              "      <td>0.0</td>\n",
              "      <td>0.0</td>\n",
              "      <td>0.0</td>\n",
              "      <td>0.000000</td>\n",
              "    </tr>\n",
              "    <tr>\n",
              "      <th>91 Days Recap</th>\n",
              "      <td>0.0</td>\n",
              "      <td>0.0</td>\n",
              "      <td>0.0</td>\n",
              "      <td>0.0</td>\n",
              "      <td>0.706223</td>\n",
              "      <td>0.0</td>\n",
              "      <td>0.0</td>\n",
              "      <td>0.0</td>\n",
              "      <td>0.0</td>\n",
              "      <td>0.000000</td>\n",
              "    </tr>\n",
              "    <tr>\n",
              "      <th>Fuku-chan</th>\n",
              "      <td>0.0</td>\n",
              "      <td>0.0</td>\n",
              "      <td>0.0</td>\n",
              "      <td>0.0</td>\n",
              "      <td>0.000000</td>\n",
              "      <td>0.0</td>\n",
              "      <td>0.0</td>\n",
              "      <td>0.0</td>\n",
              "      <td>0.0</td>\n",
              "      <td>0.000000</td>\n",
              "    </tr>\n",
              "    <tr>\n",
              "      <th>Ikkyuu-san: Haru Da! Yancha Hime</th>\n",
              "      <td>0.0</td>\n",
              "      <td>0.0</td>\n",
              "      <td>0.0</td>\n",
              "      <td>0.0</td>\n",
              "      <td>0.717375</td>\n",
              "      <td>0.0</td>\n",
              "      <td>0.0</td>\n",
              "      <td>0.0</td>\n",
              "      <td>0.0</td>\n",
              "      <td>0.000000</td>\n",
              "    </tr>\n",
              "    <tr>\n",
              "      <th>Crusher Joe: The Movie</th>\n",
              "      <td>0.0</td>\n",
              "      <td>0.0</td>\n",
              "      <td>0.0</td>\n",
              "      <td>0.0</td>\n",
              "      <td>0.000000</td>\n",
              "      <td>0.0</td>\n",
              "      <td>0.0</td>\n",
              "      <td>0.0</td>\n",
              "      <td>0.0</td>\n",
              "      <td>0.000000</td>\n",
              "    </tr>\n",
              "  </tbody>\n",
              "</table>\n",
              "</div>\n",
              "      <button class=\"colab-df-convert\" onclick=\"convertToInteractive('df-6e5055da-29cd-477a-93f0-d2d23415605e')\"\n",
              "              title=\"Convert this dataframe to an interactive table.\"\n",
              "              style=\"display:none;\">\n",
              "        \n",
              "  <svg xmlns=\"http://www.w3.org/2000/svg\" height=\"24px\"viewBox=\"0 0 24 24\"\n",
              "       width=\"24px\">\n",
              "    <path d=\"M0 0h24v24H0V0z\" fill=\"none\"/>\n",
              "    <path d=\"M18.56 5.44l.94 2.06.94-2.06 2.06-.94-2.06-.94-.94-2.06-.94 2.06-2.06.94zm-11 1L8.5 8.5l.94-2.06 2.06-.94-2.06-.94L8.5 2.5l-.94 2.06-2.06.94zm10 10l.94 2.06.94-2.06 2.06-.94-2.06-.94-.94-2.06-.94 2.06-2.06.94z\"/><path d=\"M17.41 7.96l-1.37-1.37c-.4-.4-.92-.59-1.43-.59-.52 0-1.04.2-1.43.59L10.3 9.45l-7.72 7.72c-.78.78-.78 2.05 0 2.83L4 21.41c.39.39.9.59 1.41.59.51 0 1.02-.2 1.41-.59l7.78-7.78 2.81-2.81c.8-.78.8-2.07 0-2.86zM5.41 20L4 18.59l7.72-7.72 1.47 1.35L5.41 20z\"/>\n",
              "  </svg>\n",
              "      </button>\n",
              "      \n",
              "  <style>\n",
              "    .colab-df-container {\n",
              "      display:flex;\n",
              "      flex-wrap:wrap;\n",
              "      gap: 12px;\n",
              "    }\n",
              "\n",
              "    .colab-df-convert {\n",
              "      background-color: #E8F0FE;\n",
              "      border: none;\n",
              "      border-radius: 50%;\n",
              "      cursor: pointer;\n",
              "      display: none;\n",
              "      fill: #1967D2;\n",
              "      height: 32px;\n",
              "      padding: 0 0 0 0;\n",
              "      width: 32px;\n",
              "    }\n",
              "\n",
              "    .colab-df-convert:hover {\n",
              "      background-color: #E2EBFA;\n",
              "      box-shadow: 0px 1px 2px rgba(60, 64, 67, 0.3), 0px 1px 3px 1px rgba(60, 64, 67, 0.15);\n",
              "      fill: #174EA6;\n",
              "    }\n",
              "\n",
              "    [theme=dark] .colab-df-convert {\n",
              "      background-color: #3B4455;\n",
              "      fill: #D2E3FC;\n",
              "    }\n",
              "\n",
              "    [theme=dark] .colab-df-convert:hover {\n",
              "      background-color: #434B5C;\n",
              "      box-shadow: 0px 1px 3px 1px rgba(0, 0, 0, 0.15);\n",
              "      filter: drop-shadow(0px 1px 2px rgba(0, 0, 0, 0.3));\n",
              "      fill: #FFFFFF;\n",
              "    }\n",
              "  </style>\n",
              "\n",
              "      <script>\n",
              "        const buttonEl =\n",
              "          document.querySelector('#df-6e5055da-29cd-477a-93f0-d2d23415605e button.colab-df-convert');\n",
              "        buttonEl.style.display =\n",
              "          google.colab.kernel.accessAllowed ? 'block' : 'none';\n",
              "\n",
              "        async function convertToInteractive(key) {\n",
              "          const element = document.querySelector('#df-6e5055da-29cd-477a-93f0-d2d23415605e');\n",
              "          const dataTable =\n",
              "            await google.colab.kernel.invokeFunction('convertToInteractive',\n",
              "                                                     [key], {});\n",
              "          if (!dataTable) return;\n",
              "\n",
              "          const docLinkHtml = 'Like what you see? Visit the ' +\n",
              "            '<a target=\"_blank\" href=https://colab.research.google.com/notebooks/data_table.ipynb>data table notebook</a>'\n",
              "            + ' to learn more about interactive tables.';\n",
              "          element.innerHTML = '';\n",
              "          dataTable['output_type'] = 'display_data';\n",
              "          await google.colab.output.renderOutput(dataTable, element);\n",
              "          const docLink = document.createElement('div');\n",
              "          docLink.innerHTML = docLinkHtml;\n",
              "          element.appendChild(docLink);\n",
              "        }\n",
              "      </script>\n",
              "    </div>\n",
              "  </div>\n",
              "  "
            ]
          },
          "metadata": {},
          "execution_count": 39
        }
      ],
      "source": [
        "# Membuat dataframe untuk melihat tf-idf matrix\n",
        "# Kolom diisi dengan genre anime\n",
        "# Baris diisi dengan nama anime\n",
        "# Ukuran matrix sangat besar sehingga kita ambil 10 jenis genre dengan 10 nama anime untuk melihat gambaran\n",
        "\n",
        "pd.DataFrame(\n",
        "             tfidf_matrix.todense(), \n",
        "             columns=tf_.get_feature_names(),\n",
        "             index= genre_based.name\n",
        "             ).sample(10, axis=1).sample(10, axis=0)"
      ]
    },
    {
      "cell_type": "markdown",
      "id": "762b78ce-1250-4506-bba4-c14926eb46a6",
      "metadata": {
        "id": "762b78ce-1250-4506-bba4-c14926eb46a6"
      },
      "source": [
        "Dari pembuatan matriks korelasi anime dengan genre diperoleh matriks berukuran 12232x43. Pada tahap selanjutnya, dibuatlah matriks kesamaan antar anime berukuran (mxm). Semakin mirip anime satu dengan lainnya maka skor kesamaan akan mendekati satu, begitupun sebalinkya. Untuk menghitung nilai kesamaan antar anime digunakanlah cosine similarity. Cosine similarity akan menghitung sudut cosinus antara dua vektor. Semakin kecil sudut cosinus-nya maka semakin besar cosine similarity. Metrik ini seringkali digunakan mengukur kesamaan antar teks atau kata sehingga cocok digunakan dalam kasus ini. Berikut merupakan ilustrasi dari cosine similarity.    \n",
        "<img src=\"https://www.researchgate.net/publication/320914786/figure/fig2/AS:558221849841664@1510101868614/The-difference-between-Euclidean-distance-and-cosine-similarity.png\" width=400>\n",
        "<br>\n",
        "<img src=\"https://i0.wp.com/clay-atlas.com/wp-content/uploads/2020/03/cosine-similarity-2.png?fit=800%2C208&ssl=1\" width=400>\n"
      ]
    },
    {
      "cell_type": "code",
      "execution_count": null,
      "id": "bb716998-94d3-4707-b864-ca16e7e1665f",
      "metadata": {
        "id": "bb716998-94d3-4707-b864-ca16e7e1665f",
        "outputId": "82cbcd4a-aea2-46b4-d146-df215f375c0f",
        "colab": {
          "base_uri": "https://localhost:8080/"
        }
      },
      "outputs": [
        {
          "output_type": "execute_result",
          "data": {
            "text/plain": [
              "array([[1.        , 0.14755006, 0.        , ..., 0.        , 0.        ,\n",
              "        0.        ],\n",
              "       [0.14755006, 1.        , 0.18836473, ..., 0.        , 0.        ,\n",
              "        0.        ],\n",
              "       [0.        , 0.18836473, 1.        , ..., 0.        , 0.        ,\n",
              "        0.        ],\n",
              "       ...,\n",
              "       [0.        , 0.        , 0.        , ..., 1.        , 1.        ,\n",
              "        1.        ],\n",
              "       [0.        , 0.        , 0.        , ..., 1.        , 1.        ,\n",
              "        1.        ],\n",
              "       [0.        , 0.        , 0.        , ..., 1.        , 1.        ,\n",
              "        1.        ]])"
            ]
          },
          "metadata": {},
          "execution_count": 40
        }
      ],
      "source": [
        "# Menghitung cosine similarity pada matrix tf-idf\n",
        "cosine_sim = cosine_similarity(tfidf_matrix) \n",
        "cosine_sim"
      ]
    },
    {
      "cell_type": "code",
      "execution_count": null,
      "id": "d5f289be-5c3f-4b1c-9bf7-bc6765ae0020",
      "metadata": {
        "id": "d5f289be-5c3f-4b1c-9bf7-bc6765ae0020",
        "outputId": "638b0045-c990-4929-a8fb-c548425fb7ea",
        "colab": {
          "base_uri": "https://localhost:8080/",
          "height": 491
        }
      },
      "outputs": [
        {
          "output_type": "stream",
          "name": "stdout",
          "text": [
            "Shape: (12232, 12232)\n"
          ]
        },
        {
          "output_type": "execute_result",
          "data": {
            "text/plain": [
              "name                                               G-9  \\\n",
              "name                                                     \n",
              "Yuuto-kun ga Iku Movie                        0.000000   \n",
              "Qin Shiming Yue Zhi: Zhu Zi Bai Jia           0.376043   \n",
              "Twilight Q                                    0.000000   \n",
              "Fate/kaleid liner Prisma☆Illya 2wei!          0.478061   \n",
              "Natural                                       0.000000   \n",
              "Taiyou no Kiba Dagram                         0.000000   \n",
              "7-kakan.                                      0.000000   \n",
              "Chain Chronicle: Haecceitas no Hikari Part 3  0.406366   \n",
              "TOTO Green Challenge                          0.000000   \n",
              "Usalullaby                                    0.000000   \n",
              "\n",
              "name                                          Berserk: Ougon Jidai-hen II - Doldrey Kouryaku  \\\n",
              "name                                                                                           \n",
              "Yuuto-kun ga Iku Movie                                                              0.000000   \n",
              "Qin Shiming Yue Zhi: Zhu Zi Bai Jia                                                 0.170446   \n",
              "Twilight Q                                                                          0.000000   \n",
              "Fate/kaleid liner Prisma☆Illya 2wei!                                                0.216688   \n",
              "Natural                                                                             0.000000   \n",
              "Taiyou no Kiba Dagram                                                               0.329320   \n",
              "7-kakan.                                                                            0.000000   \n",
              "Chain Chronicle: Haecceitas no Hikari Part 3                                        0.282527   \n",
              "TOTO Green Challenge                                                                0.000000   \n",
              "Usalullaby                                                                          0.000000   \n",
              "\n",
              "name                                          Ayatsuri Ningyou  \\\n",
              "name                                                             \n",
              "Yuuto-kun ga Iku Movie                                     0.0   \n",
              "Qin Shiming Yue Zhi: Zhu Zi Bai Jia                        0.0   \n",
              "Twilight Q                                                 0.0   \n",
              "Fate/kaleid liner Prisma☆Illya 2wei!                       0.0   \n",
              "Natural                                                    1.0   \n",
              "Taiyou no Kiba Dagram                                      0.0   \n",
              "7-kakan.                                                   0.0   \n",
              "Chain Chronicle: Haecceitas no Hikari Part 3               0.0   \n",
              "TOTO Green Challenge                                       0.0   \n",
              "Usalullaby                                                 0.0   \n",
              "\n",
              "name                                          Techno Police 21C  \\\n",
              "name                                                              \n",
              "Yuuto-kun ga Iku Movie                                 0.000000   \n",
              "Qin Shiming Yue Zhi: Zhu Zi Bai Jia                    0.117396   \n",
              "Twilight Q                                             0.149968   \n",
              "Fate/kaleid liner Prisma☆Illya 2wei!                   0.149245   \n",
              "Natural                                                0.000000   \n",
              "Taiyou no Kiba Dagram                                  0.375300   \n",
              "7-kakan.                                               0.000000   \n",
              "Chain Chronicle: Haecceitas no Hikari Part 3           0.126862   \n",
              "TOTO Green Challenge                                   0.000000   \n",
              "Usalullaby                                             0.000000   \n",
              "\n",
              "name                                          Bakujuu Gasshin Ziguru Hazeru  \\\n",
              "name                                                                          \n",
              "Yuuto-kun ga Iku Movie                                             0.000000   \n",
              "Qin Shiming Yue Zhi: Zhu Zi Bai Jia                                0.196926   \n",
              "Twilight Q                                                         0.000000   \n",
              "Fate/kaleid liner Prisma☆Illya 2wei!                               0.250351   \n",
              "Natural                                                            0.000000   \n",
              "Taiyou no Kiba Dagram                                              0.391546   \n",
              "7-kakan.                                                           0.000000   \n",
              "Chain Chronicle: Haecceitas no Hikari Part 3                       0.212806   \n",
              "TOTO Green Challenge                                               0.000000   \n",
              "Usalullaby                                                         0.000000   \n",
              "\n",
              "name                                          Hitoribotchi  \\\n",
              "name                                                         \n",
              "Yuuto-kun ga Iku Movie                            0.000000   \n",
              "Qin Shiming Yue Zhi: Zhu Zi Bai Jia               0.000000   \n",
              "Twilight Q                                        0.000000   \n",
              "Fate/kaleid liner Prisma☆Illya 2wei!              0.000000   \n",
              "Natural                                           0.000000   \n",
              "Taiyou no Kiba Dagram                             0.374482   \n",
              "7-kakan.                                          0.000000   \n",
              "Chain Chronicle: Haecceitas no Hikari Part 3      0.000000   \n",
              "TOTO Green Challenge                              0.000000   \n",
              "Usalullaby                                        0.000000   \n",
              "\n",
              "name                                          Ninja Senshi Tobikage  \\\n",
              "name                                                                  \n",
              "Yuuto-kun ga Iku Movie                                     0.000000   \n",
              "Qin Shiming Yue Zhi: Zhu Zi Bai Jia                        0.000000   \n",
              "Twilight Q                                                 0.145250   \n",
              "Fate/kaleid liner Prisma☆Illya 2wei!                       0.000000   \n",
              "Natural                                                    0.000000   \n",
              "Taiyou no Kiba Dagram                                      0.520403   \n",
              "7-kakan.                                                   0.000000   \n",
              "Chain Chronicle: Haecceitas no Hikari Part 3               0.321738   \n",
              "TOTO Green Challenge                                       0.000000   \n",
              "Usalullaby                                                 0.000000   \n",
              "\n",
              "name                                          Marude Dameo  Muramasa  \\\n",
              "name                                                                   \n",
              "Yuuto-kun ga Iku Movie                            0.000000  0.000000   \n",
              "Qin Shiming Yue Zhi: Zhu Zi Bai Jia               0.000000  0.562693   \n",
              "Twilight Q                                        0.241111  0.000000   \n",
              "Fate/kaleid liner Prisma☆Illya 2wei!              0.153809  0.000000   \n",
              "Natural                                           0.000000  0.000000   \n",
              "Taiyou no Kiba Dagram                             0.488581  0.000000   \n",
              "7-kakan.                                          0.000000  0.000000   \n",
              "Chain Chronicle: Haecceitas no Hikari Part 3      0.297022  0.000000   \n",
              "TOTO Green Challenge                              0.000000  0.000000   \n",
              "Usalullaby                                        0.000000  0.000000   \n",
              "\n",
              "name                                          The Olympic Adventures of Fuwa  \n",
              "name                                                                          \n",
              "Yuuto-kun ga Iku Movie                                              0.000000  \n",
              "Qin Shiming Yue Zhi: Zhu Zi Bai Jia                                 0.000000  \n",
              "Twilight Q                                                          0.000000  \n",
              "Fate/kaleid liner Prisma☆Illya 2wei!                                0.352803  \n",
              "Natural                                                             0.000000  \n",
              "Taiyou no Kiba Dagram                                               0.000000  \n",
              "7-kakan.                                                            0.000000  \n",
              "Chain Chronicle: Haecceitas no Hikari Part 3                        0.000000  \n",
              "TOTO Green Challenge                                                0.000000  \n",
              "Usalullaby                                                          0.000000  "
            ],
            "text/html": [
              "\n",
              "  <div id=\"df-964b68ee-72ef-4f90-af22-fd8724244f5f\">\n",
              "    <div class=\"colab-df-container\">\n",
              "      <div>\n",
              "<style scoped>\n",
              "    .dataframe tbody tr th:only-of-type {\n",
              "        vertical-align: middle;\n",
              "    }\n",
              "\n",
              "    .dataframe tbody tr th {\n",
              "        vertical-align: top;\n",
              "    }\n",
              "\n",
              "    .dataframe thead th {\n",
              "        text-align: right;\n",
              "    }\n",
              "</style>\n",
              "<table border=\"1\" class=\"dataframe\">\n",
              "  <thead>\n",
              "    <tr style=\"text-align: right;\">\n",
              "      <th>name</th>\n",
              "      <th>G-9</th>\n",
              "      <th>Berserk: Ougon Jidai-hen II - Doldrey Kouryaku</th>\n",
              "      <th>Ayatsuri Ningyou</th>\n",
              "      <th>Techno Police 21C</th>\n",
              "      <th>Bakujuu Gasshin Ziguru Hazeru</th>\n",
              "      <th>Hitoribotchi</th>\n",
              "      <th>Ninja Senshi Tobikage</th>\n",
              "      <th>Marude Dameo</th>\n",
              "      <th>Muramasa</th>\n",
              "      <th>The Olympic Adventures of Fuwa</th>\n",
              "    </tr>\n",
              "    <tr>\n",
              "      <th>name</th>\n",
              "      <th></th>\n",
              "      <th></th>\n",
              "      <th></th>\n",
              "      <th></th>\n",
              "      <th></th>\n",
              "      <th></th>\n",
              "      <th></th>\n",
              "      <th></th>\n",
              "      <th></th>\n",
              "      <th></th>\n",
              "    </tr>\n",
              "  </thead>\n",
              "  <tbody>\n",
              "    <tr>\n",
              "      <th>Yuuto-kun ga Iku Movie</th>\n",
              "      <td>0.000000</td>\n",
              "      <td>0.000000</td>\n",
              "      <td>0.0</td>\n",
              "      <td>0.000000</td>\n",
              "      <td>0.000000</td>\n",
              "      <td>0.000000</td>\n",
              "      <td>0.000000</td>\n",
              "      <td>0.000000</td>\n",
              "      <td>0.000000</td>\n",
              "      <td>0.000000</td>\n",
              "    </tr>\n",
              "    <tr>\n",
              "      <th>Qin Shiming Yue Zhi: Zhu Zi Bai Jia</th>\n",
              "      <td>0.376043</td>\n",
              "      <td>0.170446</td>\n",
              "      <td>0.0</td>\n",
              "      <td>0.117396</td>\n",
              "      <td>0.196926</td>\n",
              "      <td>0.000000</td>\n",
              "      <td>0.000000</td>\n",
              "      <td>0.000000</td>\n",
              "      <td>0.562693</td>\n",
              "      <td>0.000000</td>\n",
              "    </tr>\n",
              "    <tr>\n",
              "      <th>Twilight Q</th>\n",
              "      <td>0.000000</td>\n",
              "      <td>0.000000</td>\n",
              "      <td>0.0</td>\n",
              "      <td>0.149968</td>\n",
              "      <td>0.000000</td>\n",
              "      <td>0.000000</td>\n",
              "      <td>0.145250</td>\n",
              "      <td>0.241111</td>\n",
              "      <td>0.000000</td>\n",
              "      <td>0.000000</td>\n",
              "    </tr>\n",
              "    <tr>\n",
              "      <th>Fate/kaleid liner Prisma☆Illya 2wei!</th>\n",
              "      <td>0.478061</td>\n",
              "      <td>0.216688</td>\n",
              "      <td>0.0</td>\n",
              "      <td>0.149245</td>\n",
              "      <td>0.250351</td>\n",
              "      <td>0.000000</td>\n",
              "      <td>0.000000</td>\n",
              "      <td>0.153809</td>\n",
              "      <td>0.000000</td>\n",
              "      <td>0.352803</td>\n",
              "    </tr>\n",
              "    <tr>\n",
              "      <th>Natural</th>\n",
              "      <td>0.000000</td>\n",
              "      <td>0.000000</td>\n",
              "      <td>1.0</td>\n",
              "      <td>0.000000</td>\n",
              "      <td>0.000000</td>\n",
              "      <td>0.000000</td>\n",
              "      <td>0.000000</td>\n",
              "      <td>0.000000</td>\n",
              "      <td>0.000000</td>\n",
              "      <td>0.000000</td>\n",
              "    </tr>\n",
              "    <tr>\n",
              "      <th>Taiyou no Kiba Dagram</th>\n",
              "      <td>0.000000</td>\n",
              "      <td>0.329320</td>\n",
              "      <td>0.0</td>\n",
              "      <td>0.375300</td>\n",
              "      <td>0.391546</td>\n",
              "      <td>0.374482</td>\n",
              "      <td>0.520403</td>\n",
              "      <td>0.488581</td>\n",
              "      <td>0.000000</td>\n",
              "      <td>0.000000</td>\n",
              "    </tr>\n",
              "    <tr>\n",
              "      <th>7-kakan.</th>\n",
              "      <td>0.000000</td>\n",
              "      <td>0.000000</td>\n",
              "      <td>0.0</td>\n",
              "      <td>0.000000</td>\n",
              "      <td>0.000000</td>\n",
              "      <td>0.000000</td>\n",
              "      <td>0.000000</td>\n",
              "      <td>0.000000</td>\n",
              "      <td>0.000000</td>\n",
              "      <td>0.000000</td>\n",
              "    </tr>\n",
              "    <tr>\n",
              "      <th>Chain Chronicle: Haecceitas no Hikari Part 3</th>\n",
              "      <td>0.406366</td>\n",
              "      <td>0.282527</td>\n",
              "      <td>0.0</td>\n",
              "      <td>0.126862</td>\n",
              "      <td>0.212806</td>\n",
              "      <td>0.000000</td>\n",
              "      <td>0.321738</td>\n",
              "      <td>0.297022</td>\n",
              "      <td>0.000000</td>\n",
              "      <td>0.000000</td>\n",
              "    </tr>\n",
              "    <tr>\n",
              "      <th>TOTO Green Challenge</th>\n",
              "      <td>0.000000</td>\n",
              "      <td>0.000000</td>\n",
              "      <td>0.0</td>\n",
              "      <td>0.000000</td>\n",
              "      <td>0.000000</td>\n",
              "      <td>0.000000</td>\n",
              "      <td>0.000000</td>\n",
              "      <td>0.000000</td>\n",
              "      <td>0.000000</td>\n",
              "      <td>0.000000</td>\n",
              "    </tr>\n",
              "    <tr>\n",
              "      <th>Usalullaby</th>\n",
              "      <td>0.000000</td>\n",
              "      <td>0.000000</td>\n",
              "      <td>0.0</td>\n",
              "      <td>0.000000</td>\n",
              "      <td>0.000000</td>\n",
              "      <td>0.000000</td>\n",
              "      <td>0.000000</td>\n",
              "      <td>0.000000</td>\n",
              "      <td>0.000000</td>\n",
              "      <td>0.000000</td>\n",
              "    </tr>\n",
              "  </tbody>\n",
              "</table>\n",
              "</div>\n",
              "      <button class=\"colab-df-convert\" onclick=\"convertToInteractive('df-964b68ee-72ef-4f90-af22-fd8724244f5f')\"\n",
              "              title=\"Convert this dataframe to an interactive table.\"\n",
              "              style=\"display:none;\">\n",
              "        \n",
              "  <svg xmlns=\"http://www.w3.org/2000/svg\" height=\"24px\"viewBox=\"0 0 24 24\"\n",
              "       width=\"24px\">\n",
              "    <path d=\"M0 0h24v24H0V0z\" fill=\"none\"/>\n",
              "    <path d=\"M18.56 5.44l.94 2.06.94-2.06 2.06-.94-2.06-.94-.94-2.06-.94 2.06-2.06.94zm-11 1L8.5 8.5l.94-2.06 2.06-.94-2.06-.94L8.5 2.5l-.94 2.06-2.06.94zm10 10l.94 2.06.94-2.06 2.06-.94-2.06-.94-.94-2.06-.94 2.06-2.06.94z\"/><path d=\"M17.41 7.96l-1.37-1.37c-.4-.4-.92-.59-1.43-.59-.52 0-1.04.2-1.43.59L10.3 9.45l-7.72 7.72c-.78.78-.78 2.05 0 2.83L4 21.41c.39.39.9.59 1.41.59.51 0 1.02-.2 1.41-.59l7.78-7.78 2.81-2.81c.8-.78.8-2.07 0-2.86zM5.41 20L4 18.59l7.72-7.72 1.47 1.35L5.41 20z\"/>\n",
              "  </svg>\n",
              "      </button>\n",
              "      \n",
              "  <style>\n",
              "    .colab-df-container {\n",
              "      display:flex;\n",
              "      flex-wrap:wrap;\n",
              "      gap: 12px;\n",
              "    }\n",
              "\n",
              "    .colab-df-convert {\n",
              "      background-color: #E8F0FE;\n",
              "      border: none;\n",
              "      border-radius: 50%;\n",
              "      cursor: pointer;\n",
              "      display: none;\n",
              "      fill: #1967D2;\n",
              "      height: 32px;\n",
              "      padding: 0 0 0 0;\n",
              "      width: 32px;\n",
              "    }\n",
              "\n",
              "    .colab-df-convert:hover {\n",
              "      background-color: #E2EBFA;\n",
              "      box-shadow: 0px 1px 2px rgba(60, 64, 67, 0.3), 0px 1px 3px 1px rgba(60, 64, 67, 0.15);\n",
              "      fill: #174EA6;\n",
              "    }\n",
              "\n",
              "    [theme=dark] .colab-df-convert {\n",
              "      background-color: #3B4455;\n",
              "      fill: #D2E3FC;\n",
              "    }\n",
              "\n",
              "    [theme=dark] .colab-df-convert:hover {\n",
              "      background-color: #434B5C;\n",
              "      box-shadow: 0px 1px 3px 1px rgba(0, 0, 0, 0.15);\n",
              "      filter: drop-shadow(0px 1px 2px rgba(0, 0, 0, 0.3));\n",
              "      fill: #FFFFFF;\n",
              "    }\n",
              "  </style>\n",
              "\n",
              "      <script>\n",
              "        const buttonEl =\n",
              "          document.querySelector('#df-964b68ee-72ef-4f90-af22-fd8724244f5f button.colab-df-convert');\n",
              "        buttonEl.style.display =\n",
              "          google.colab.kernel.accessAllowed ? 'block' : 'none';\n",
              "\n",
              "        async function convertToInteractive(key) {\n",
              "          const element = document.querySelector('#df-964b68ee-72ef-4f90-af22-fd8724244f5f');\n",
              "          const dataTable =\n",
              "            await google.colab.kernel.invokeFunction('convertToInteractive',\n",
              "                                                     [key], {});\n",
              "          if (!dataTable) return;\n",
              "\n",
              "          const docLinkHtml = 'Like what you see? Visit the ' +\n",
              "            '<a target=\"_blank\" href=https://colab.research.google.com/notebooks/data_table.ipynb>data table notebook</a>'\n",
              "            + ' to learn more about interactive tables.';\n",
              "          element.innerHTML = '';\n",
              "          dataTable['output_type'] = 'display_data';\n",
              "          await google.colab.output.renderOutput(dataTable, element);\n",
              "          const docLink = document.createElement('div');\n",
              "          docLink.innerHTML = docLinkHtml;\n",
              "          element.appendChild(docLink);\n",
              "        }\n",
              "      </script>\n",
              "    </div>\n",
              "  </div>\n",
              "  "
            ]
          },
          "metadata": {},
          "execution_count": 41
        }
      ],
      "source": [
        "# Membuat dataframe dari variabel cosine_sim dengan baris dan kolom berupa nama anime\n",
        "cosine_sim_df = pd.DataFrame(cosine_sim, index=genre_based['name'], columns=genre_based['name'])\n",
        "print('Shape:', cosine_sim_df.shape)\n",
        "     \n",
        "# Melihat similarity matrix pada 10 judul anime saja\n",
        "cosine_sim_df.sample(10, axis=1).sample(10, axis=0)"
      ]
    },
    {
      "cell_type": "markdown",
      "id": "03b2f991",
      "metadata": {
        "id": "03b2f991"
      },
      "source": [
        "Untuk mendapatkan top N rekomendasi berdasarkan genre, dibuatlah suatu fungsi dengan parameter nama anime, dataframe kesamaan berukuran nxn, kolom yang ditampilkan serta jumlah rekomendasi yang diinginkan. Kita akan menggunakan fungsi tersebut untuk memunculkan top 5 rekomendasi yang memiliki kemiripan dengan anime Fullmetal Alchemist. "
      ]
    },
    {
      "cell_type": "code",
      "execution_count": null,
      "id": "c672dc0f-937e-4368-a116-c9a74ab523de",
      "metadata": {
        "id": "c672dc0f-937e-4368-a116-c9a74ab523de"
      },
      "outputs": [],
      "source": [
        "#mendapatkan rekomendasi\n",
        "def anime_recommendations(anime, k, similarity_df=cosine_sim_df, items=genre_based[['name', 'genre_list']]):\n",
        "    \n",
        "    \"\"\"\n",
        "    Rekomendasi Anime berdasarkan genre\n",
        "     \n",
        "    Parameter:\n",
        "    ---\n",
        "    anime : string (str)\n",
        "            Nama anime\n",
        "    similarity_data : tipe data pd.DataFrame (object)\n",
        "                      Dataframe kesamaan berukuran nxn dengan anime sebagai indeks dan kolom\n",
        "    items : tipe data object\n",
        "            kolom yang ditampilkan untuk mendefinisikan kemiripan\n",
        "    k : tipe data integer (int)\n",
        "        Jumlah rekomendasi yang diberikan\n",
        "    ---\n",
        "    \"\"\"\n",
        "    \n",
        "    # Mengambil index data dengan nilai cosine similartity terbesar menggunakan argpartition sebanyak k\n",
        "    # Dataframe diubah menjadi numpy\n",
        "    # Range(start, stop, step)\n",
        "    index = similarity_df.loc[:,anime].to_numpy().argpartition(range(-1, -k, -1))\n",
        "        \n",
        "    # Mengambil nama anime dengan similarity terbesar dari index yang ada\n",
        "    closest = similarity_df.columns[index[-1:-(k+2):-1]]\n",
        "        \n",
        "    # Drop nama anime agar nama anime yang dicari tidak muncul dalam daftar rekomendasi\n",
        "    closest = closest.drop(anime, errors='ignore')\n",
        "    \n",
        "     \n",
        "    return pd.DataFrame(closest).merge(items).head(k)"
      ]
    },
    {
      "cell_type": "code",
      "execution_count": null,
      "id": "41b06e6a-bad0-47f0-9ac5-ed3de4e6aa91",
      "metadata": {
        "id": "41b06e6a-bad0-47f0-9ac5-ed3de4e6aa91",
        "outputId": "34b6d8b6-eef4-488b-8d44-f5e1cdcb1bf7",
        "colab": {
          "base_uri": "https://localhost:8080/",
          "height": 207
        }
      },
      "outputs": [
        {
          "output_type": "execute_result",
          "data": {
            "text/plain": [
              "                                            name  \\\n",
              "0  Fullmetal Alchemist: The Sacred Star of Milos   \n",
              "1               Fullmetal Alchemist: Brotherhood   \n",
              "2      Fullmetal Alchemist: Brotherhood Specials   \n",
              "3               Fullmetal Alchemist: Reflections   \n",
              "4                              Fairy Tail x Rave   \n",
              "\n",
              "                                          genre_list  \n",
              "0  [Action, Adventure, Comedy, Drama, Fantasy, Ma...  \n",
              "1  [Action, Adventure, Drama, Fantasy, Magic, Mil...  \n",
              "2  [Adventure, Drama, Fantasy, Magic, Military, S...  \n",
              "3  [Adventure, Comedy, Drama, Fantasy, Military, ...  \n",
              "4  [Action, Adventure, Comedy, Fantasy, Magic, Sh...  "
            ],
            "text/html": [
              "\n",
              "  <div id=\"df-8cc6dd7a-a593-4ca3-81b8-58354e051157\">\n",
              "    <div class=\"colab-df-container\">\n",
              "      <div>\n",
              "<style scoped>\n",
              "    .dataframe tbody tr th:only-of-type {\n",
              "        vertical-align: middle;\n",
              "    }\n",
              "\n",
              "    .dataframe tbody tr th {\n",
              "        vertical-align: top;\n",
              "    }\n",
              "\n",
              "    .dataframe thead th {\n",
              "        text-align: right;\n",
              "    }\n",
              "</style>\n",
              "<table border=\"1\" class=\"dataframe\">\n",
              "  <thead>\n",
              "    <tr style=\"text-align: right;\">\n",
              "      <th></th>\n",
              "      <th>name</th>\n",
              "      <th>genre_list</th>\n",
              "    </tr>\n",
              "  </thead>\n",
              "  <tbody>\n",
              "    <tr>\n",
              "      <th>0</th>\n",
              "      <td>Fullmetal Alchemist: The Sacred Star of Milos</td>\n",
              "      <td>[Action, Adventure, Comedy, Drama, Fantasy, Ma...</td>\n",
              "    </tr>\n",
              "    <tr>\n",
              "      <th>1</th>\n",
              "      <td>Fullmetal Alchemist: Brotherhood</td>\n",
              "      <td>[Action, Adventure, Drama, Fantasy, Magic, Mil...</td>\n",
              "    </tr>\n",
              "    <tr>\n",
              "      <th>2</th>\n",
              "      <td>Fullmetal Alchemist: Brotherhood Specials</td>\n",
              "      <td>[Adventure, Drama, Fantasy, Magic, Military, S...</td>\n",
              "    </tr>\n",
              "    <tr>\n",
              "      <th>3</th>\n",
              "      <td>Fullmetal Alchemist: Reflections</td>\n",
              "      <td>[Adventure, Comedy, Drama, Fantasy, Military, ...</td>\n",
              "    </tr>\n",
              "    <tr>\n",
              "      <th>4</th>\n",
              "      <td>Fairy Tail x Rave</td>\n",
              "      <td>[Action, Adventure, Comedy, Fantasy, Magic, Sh...</td>\n",
              "    </tr>\n",
              "  </tbody>\n",
              "</table>\n",
              "</div>\n",
              "      <button class=\"colab-df-convert\" onclick=\"convertToInteractive('df-8cc6dd7a-a593-4ca3-81b8-58354e051157')\"\n",
              "              title=\"Convert this dataframe to an interactive table.\"\n",
              "              style=\"display:none;\">\n",
              "        \n",
              "  <svg xmlns=\"http://www.w3.org/2000/svg\" height=\"24px\"viewBox=\"0 0 24 24\"\n",
              "       width=\"24px\">\n",
              "    <path d=\"M0 0h24v24H0V0z\" fill=\"none\"/>\n",
              "    <path d=\"M18.56 5.44l.94 2.06.94-2.06 2.06-.94-2.06-.94-.94-2.06-.94 2.06-2.06.94zm-11 1L8.5 8.5l.94-2.06 2.06-.94-2.06-.94L8.5 2.5l-.94 2.06-2.06.94zm10 10l.94 2.06.94-2.06 2.06-.94-2.06-.94-.94-2.06-.94 2.06-2.06.94z\"/><path d=\"M17.41 7.96l-1.37-1.37c-.4-.4-.92-.59-1.43-.59-.52 0-1.04.2-1.43.59L10.3 9.45l-7.72 7.72c-.78.78-.78 2.05 0 2.83L4 21.41c.39.39.9.59 1.41.59.51 0 1.02-.2 1.41-.59l7.78-7.78 2.81-2.81c.8-.78.8-2.07 0-2.86zM5.41 20L4 18.59l7.72-7.72 1.47 1.35L5.41 20z\"/>\n",
              "  </svg>\n",
              "      </button>\n",
              "      \n",
              "  <style>\n",
              "    .colab-df-container {\n",
              "      display:flex;\n",
              "      flex-wrap:wrap;\n",
              "      gap: 12px;\n",
              "    }\n",
              "\n",
              "    .colab-df-convert {\n",
              "      background-color: #E8F0FE;\n",
              "      border: none;\n",
              "      border-radius: 50%;\n",
              "      cursor: pointer;\n",
              "      display: none;\n",
              "      fill: #1967D2;\n",
              "      height: 32px;\n",
              "      padding: 0 0 0 0;\n",
              "      width: 32px;\n",
              "    }\n",
              "\n",
              "    .colab-df-convert:hover {\n",
              "      background-color: #E2EBFA;\n",
              "      box-shadow: 0px 1px 2px rgba(60, 64, 67, 0.3), 0px 1px 3px 1px rgba(60, 64, 67, 0.15);\n",
              "      fill: #174EA6;\n",
              "    }\n",
              "\n",
              "    [theme=dark] .colab-df-convert {\n",
              "      background-color: #3B4455;\n",
              "      fill: #D2E3FC;\n",
              "    }\n",
              "\n",
              "    [theme=dark] .colab-df-convert:hover {\n",
              "      background-color: #434B5C;\n",
              "      box-shadow: 0px 1px 3px 1px rgba(0, 0, 0, 0.15);\n",
              "      filter: drop-shadow(0px 1px 2px rgba(0, 0, 0, 0.3));\n",
              "      fill: #FFFFFF;\n",
              "    }\n",
              "  </style>\n",
              "\n",
              "      <script>\n",
              "        const buttonEl =\n",
              "          document.querySelector('#df-8cc6dd7a-a593-4ca3-81b8-58354e051157 button.colab-df-convert');\n",
              "        buttonEl.style.display =\n",
              "          google.colab.kernel.accessAllowed ? 'block' : 'none';\n",
              "\n",
              "        async function convertToInteractive(key) {\n",
              "          const element = document.querySelector('#df-8cc6dd7a-a593-4ca3-81b8-58354e051157');\n",
              "          const dataTable =\n",
              "            await google.colab.kernel.invokeFunction('convertToInteractive',\n",
              "                                                     [key], {});\n",
              "          if (!dataTable) return;\n",
              "\n",
              "          const docLinkHtml = 'Like what you see? Visit the ' +\n",
              "            '<a target=\"_blank\" href=https://colab.research.google.com/notebooks/data_table.ipynb>data table notebook</a>'\n",
              "            + ' to learn more about interactive tables.';\n",
              "          element.innerHTML = '';\n",
              "          dataTable['output_type'] = 'display_data';\n",
              "          await google.colab.output.renderOutput(dataTable, element);\n",
              "          const docLink = document.createElement('div');\n",
              "          docLink.innerHTML = docLinkHtml;\n",
              "          element.appendChild(docLink);\n",
              "        }\n",
              "      </script>\n",
              "    </div>\n",
              "  </div>\n",
              "  "
            ]
          },
          "metadata": {},
          "execution_count": 43
        }
      ],
      "source": [
        "#Top 5 Recommendation\n",
        "anime_recommendations(\"Fullmetal Alchemist\", 5)"
      ]
    },
    {
      "cell_type": "markdown",
      "id": "78f823df-3d7a-40a1-8233-74353e395318",
      "metadata": {
        "id": "78f823df-3d7a-40a1-8233-74353e395318"
      },
      "source": [
        "### 2. Collaborative Filtering\n",
        "\n",
        "Kita akan membuat sistem rekomendasi collaborative filtering yang memanfaatkan penerapan deep learning. Sistem rekomendasi ini akan memanfaatkan data rating yang telah diberikan pengguna pada suatu anime kemudian melakukan prediksi anime yang disukai dan belum pernah dilihat. Hal ini bisa menjadi kekurangan apabila data rating anime yang diberikan user tidak tersedia. Kita akan menggunakan library keras dan tensorflow kemudian membuat kelas serta fungsi untuk membangun sistem rekomendasi berbasis deep learning. \n",
        "\n",
        "Pada proses pelatihan, model akan menghitung skor kecocokan antara pengguna dengan anime dengan rentang 0 sampai 1. Tahap pertama yakni melakukan proses embedding pada data user dan anime. Setelah itu, dilakukan operasi dot product antara embedding user dengan anime kemudian ditambahkan bias untuk setiap user dan anime. Fungsi aktivasi sigmoid digunakan untuk menghitung skor kecocokan berdasarkan hasil perhitungan tersebut."
      ]
    },
    {
      "cell_type": "code",
      "execution_count": null,
      "id": "cfd0be77",
      "metadata": {
        "id": "cfd0be77"
      },
      "outputs": [],
      "source": [
        "class AnimeRecommenderNet(tf.keras.Model):\n",
        "    def __init__(self, num_users, num_anime, embedding_size, **kwargs):\n",
        "        super(AnimeRecommenderNet, self).__init__(**kwargs)\n",
        "        self.num_users = num_users\n",
        "        self.num_anime = num_anime\n",
        "        self.embedding_size = embedding_size\n",
        "        self.user_embedding = layers.Embedding( # layer embedding user\n",
        "            num_users,\n",
        "            embedding_size,\n",
        "            embeddings_initializer = 'he_normal',\n",
        "            embeddings_regularizer = keras.regularizers.l2(1e-6)\n",
        "        )\n",
        "        self.user_bias = layers.Embedding(num_users, 1) # layer embedding user bias\n",
        "        self.anime_embedding = layers.Embedding( # layer embeddings anime\n",
        "            num_anime,\n",
        "            embedding_size,\n",
        "            embeddings_initializer = 'he_normal',\n",
        "            embeddings_regularizer = keras.regularizers.l2(1e-6)\n",
        "        )\n",
        "        \n",
        "    # Insialisasi fungsi\n",
        "    def call(self, inputs):\n",
        "        self.anime_bias = layers.Embedding(num_anime, 1) # layer embedding anime bias\n",
        "     \n",
        "        user_vector = self.user_embedding(inputs[:,0]) # memanggil layer embedding 1\n",
        "        user_bias = self.user_bias(inputs[:, 0]) # memanggil layer embedding 2\n",
        "        anime_vector = self.anime_embedding(inputs[:, 1]) # memanggil layer embedding 3\n",
        "        anime_bias = self.anime_bias(inputs[:, 1]) # memanggil layer embedding 4\n",
        "     \n",
        "        dot_user_anime = tf.tensordot(user_vector, anime_vector, 2) \n",
        "     \n",
        "        x = dot_user_anime + user_bias + anime_bias\n",
        "        \n",
        "        return tf.nn.sigmoid(x) # fungsi aktivasi sigmoid"
      ]
    },
    {
      "cell_type": "code",
      "execution_count": null,
      "id": "4f564eea",
      "metadata": {
        "id": "4f564eea"
      },
      "outputs": [],
      "source": [
        "model = AnimeRecommenderNet(num_users, num_anime, 50) # inisialisasi model\n",
        "     \n",
        "# model compile\n",
        "model.compile(\n",
        "                loss = tf.keras.losses.BinaryCrossentropy(),\n",
        "                optimizer = tf.keras.optimizers.Adam(learning_rate=1e-6),\n",
        "                metrics=[tf.keras.metrics.RootMeanSquaredError()]\n",
        "             )"
      ]
    },
    {
      "cell_type": "code",
      "execution_count": null,
      "id": "22a7ffe0",
      "metadata": {
        "id": "22a7ffe0",
        "outputId": "d8e9ab6f-c6d7-4cc7-ca97-94e0e7ff7ec2",
        "colab": {
          "base_uri": "https://localhost:8080/"
        }
      },
      "outputs": [
        {
          "output_type": "stream",
          "name": "stdout",
          "text": [
            "Epoch 1/15\n",
            "1268/1268 [==============================] - 117s 92ms/step - loss: 0.6938 - root_mean_squared_error: 0.3197 - val_loss: 0.6933 - val_root_mean_squared_error: 0.2714\n",
            "Epoch 2/15\n",
            "1268/1268 [==============================] - 115s 91ms/step - loss: 0.6909 - root_mean_squared_error: 0.3174 - val_loss: 0.6928 - val_root_mean_squared_error: 0.2709\n",
            "Epoch 3/15\n",
            "1268/1268 [==============================] - 118s 93ms/step - loss: 0.6880 - root_mean_squared_error: 0.3152 - val_loss: 0.6928 - val_root_mean_squared_error: 0.2709\n",
            "Epoch 4/15\n",
            "1268/1268 [==============================] - 116s 92ms/step - loss: 0.6851 - root_mean_squared_error: 0.3128 - val_loss: 0.6926 - val_root_mean_squared_error: 0.2707\n",
            "Epoch 5/15\n",
            "1268/1268 [==============================] - 116s 92ms/step - loss: 0.6820 - root_mean_squared_error: 0.3104 - val_loss: 0.6925 - val_root_mean_squared_error: 0.2707\n",
            "Epoch 6/15\n",
            "1268/1268 [==============================] - 119s 94ms/step - loss: 0.6789 - root_mean_squared_error: 0.3078 - val_loss: 0.6926 - val_root_mean_squared_error: 0.2708\n",
            "Epoch 7/15\n",
            "1268/1268 [==============================] - 118s 93ms/step - loss: 0.6756 - root_mean_squared_error: 0.3051 - val_loss: 0.6922 - val_root_mean_squared_error: 0.2704\n",
            "Epoch 8/15\n",
            "1268/1268 [==============================] - 117s 92ms/step - loss: 0.6720 - root_mean_squared_error: 0.3022 - val_loss: 0.6923 - val_root_mean_squared_error: 0.2704\n",
            "Epoch 9/15\n",
            "1268/1268 [==============================] - 118s 93ms/step - loss: 0.6682 - root_mean_squared_error: 0.2990 - val_loss: 0.6919 - val_root_mean_squared_error: 0.2701\n",
            "Epoch 10/15\n",
            "1268/1268 [==============================] - 114s 90ms/step - loss: 0.6640 - root_mean_squared_error: 0.2956 - val_loss: 0.6918 - val_root_mean_squared_error: 0.2701\n",
            "Epoch 11/15\n",
            "1268/1268 [==============================] - 115s 91ms/step - loss: 0.6594 - root_mean_squared_error: 0.2917 - val_loss: 0.6921 - val_root_mean_squared_error: 0.2703\n",
            "Epoch 12/15\n",
            "1268/1268 [==============================] - 119s 94ms/step - loss: 0.6543 - root_mean_squared_error: 0.2873 - val_loss: 0.6920 - val_root_mean_squared_error: 0.2702\n",
            "Epoch 13/15\n",
            "1268/1268 [==============================] - 118s 93ms/step - loss: 0.6485 - root_mean_squared_error: 0.2822 - val_loss: 0.6917 - val_root_mean_squared_error: 0.2699\n",
            "Epoch 14/15\n",
            "1268/1268 [==============================] - 117s 92ms/step - loss: 0.6421 - root_mean_squared_error: 0.2765 - val_loss: 0.6912 - val_root_mean_squared_error: 0.2695\n",
            "Epoch 15/15\n",
            "1268/1268 [==============================] - 118s 93ms/step - loss: 0.6348 - root_mean_squared_error: 0.2700 - val_loss: 0.6916 - val_root_mean_squared_error: 0.2698\n"
          ]
        }
      ],
      "source": [
        "# melakukan training     \n",
        "history = model.fit( x = x_train,\n",
        "                     y = y_train,\n",
        "                     batch_size = 4000, #jumlah data sangat banyak sehingga \n",
        "                     epochs = 15,       #batch size diperbesar\n",
        "                     validation_data = (x_val, y_val)\n",
        "                   )"
      ]
    },
    {
      "cell_type": "code",
      "execution_count": null,
      "id": "7595636a",
      "metadata": {
        "id": "7595636a",
        "colab": {
          "base_uri": "https://localhost:8080/",
          "height": 621
        },
        "outputId": "f062b359-35ca-43a3-bc64-fd893ff67779"
      },
      "outputs": [
        {
          "output_type": "display_data",
          "data": {
            "text/plain": [
              "<Figure size 864x720 with 1 Axes>"
            ],
            "image/png": "[encoded data removed]"
          },
          "metadata": {
            "needs_background": "light"
          }
        }
      ],
      "source": [
        "#evaluasi model\n",
        "\n",
        "plt.figure(figsize=(12,10))\n",
        "plt.plot(history.history['root_mean_squared_error'])\n",
        "plt.plot(history.history['val_root_mean_squared_error'])\n",
        "plt.title('Performa Model Rekomendasi (RMSE)')\n",
        "plt.ylabel('RMSE')\n",
        "plt.xlabel('epoch')\n",
        "plt.legend(['train', 'test'], loc='upper left')\n",
        "plt.show()"
      ]
    },
    {
      "cell_type": "markdown",
      "id": "323f0d61",
      "metadata": {
        "id": "323f0d61"
      },
      "source": [
        "Untuk menguji model rekomendasi ini, kita akan mengambil sampel user secara acak serta mendefinisikan variabel bernama **anime_not_watched** yang menunjukkan anime yang belum pernah ditonton oleh pengguna tersebut. Variabel **anime_not_watched** akan menjadi anime yang direkomendasikan.   "
      ]
    },
    {
      "cell_type": "code",
      "execution_count": null,
      "id": "2da19df3",
      "metadata": {
        "id": "2da19df3"
      },
      "outputs": [],
      "source": [
        "# mengambil sample user\n",
        "user_id = col_fil.user_id.sample(1).iloc[0]\n",
        "anime_watched_by_user = col_fil[col_fil.user_id == user_id]\n",
        "     \n",
        "# menggunakan operator bitwise untuk mengambil anime yang belum pernah ditonton pengguna \n",
        "anime_not_watched = col_fil[~col_fil['user_id'].isin(anime_watched_by_user.anime_id.values)]['anime_id'] \n",
        "anime_not_watched = list(set(anime_not_watched).intersection(set(anime_to_anime_encoded.keys())))\n",
        "     \n",
        "anime_not_watched = [[anime_to_anime_encoded.get(x)] for x in anime_not_watched]\n",
        "user_encoder = user_to_user_encoded.get(user_id)\n",
        "user_anime_array = np.hstack(([[user_encoder]] * len(anime_not_watched), anime_not_watched))"
      ]
    },
    {
      "cell_type": "code",
      "execution_count": null,
      "id": "9518fe5e",
      "metadata": {
        "id": "9518fe5e",
        "colab": {
          "base_uri": "https://localhost:8080/"
        },
        "outputId": "2289f940-4a89-4d79-82ac-36629c2130f2"
      },
      "outputs": [
        {
          "output_type": "stream",
          "name": "stdout",
          "text": [
            "Showing recommendations for users: 17025\n",
            "===========================\n",
            "\n",
            "\n",
            "Anime with high ratings from user\n",
            "--------------------------------\n",
            "Angel Beats! : Comedy Drama Romance School Sports\n",
            "Bakuman. 2nd Season : Comedy Drama Romance School Sports\n",
            "Hunter x Hunter (2011) : Comedy Drama Romance School Sports\n",
            "Bakuman. 3rd Season : Comedy Drama Romance School Sports\n",
            "Cross Game : Comedy Drama Romance School Sports\n",
            "--------------------------------\n",
            "Top 10 anime recommendation\n",
            "--------------------------------\n",
            "Afro Samurai : Drama Kids\n",
            "Kaze Tachinu : Drama Kids\n",
            "Angel Blade : Drama Kids\n",
            "Soul Eater: Late Night Show : Drama Kids\n",
            "Tetsujin 28-gou (2004) : Drama Kids\n",
            "Bishoujo Mobage: Mobami-chan : Drama Kids\n",
            "Dark Blue : Drama Kids\n",
            "Jetter Mars : Drama Kids\n",
            "Pinky Monkey x FaFa Collaboration Animation: At Afternoon of Sunny Day : Drama Kids\n",
            "Hibike! Wadaiko : Drama Kids\n"
          ]
        }
      ],
      "source": [
        "ratings = model.predict(user_anime_array).flatten()\n",
        "     \n",
        "top_ratings_idx = ratings.argsort()[-10:][::-1]\n",
        "recommended_anime_ids = [anime_encoded_to_anime.get(anime_not_watched[x][0]) for x in top_ratings_idx]\n",
        "     \n",
        "print('Showing recommendations for users: {}'.format(user_id))\n",
        "print('===' * 9)\n",
        "print(\"\\n\")\n",
        "print('Anime with high ratings from user')\n",
        "print('----' * 8)\n",
        "     \n",
        "top_anime_user = (anime_watched_by_user.sort_values(by = 'rating',ascending=False).head(5).anime_id.values)\n",
        "     \n",
        "anime_df_rows = col_fil[col_fil['anime_id'].isin(top_anime_user)]\n",
        "anime_dict = {name:genre for name in anime_df_rows[\"name\"].values for genre in anime_df_rows[\"genre_clean\"].values}\n",
        "\n",
        "for key, val in anime_dict.items():\n",
        "    print(key, ':', val)\n",
        "\n",
        "print('----' * 8)\n",
        "print('Top 10 anime recommendation')\n",
        "print('----' * 8)\n",
        "     \n",
        "recommended_anime = col_fil[col_fil['anime_id'].isin(recommended_anime_ids)]\n",
        "recommended_dict = {name:genre for name in recommended_anime[\"name\"].values for genre in recommended_anime[\"genre_clean\"].values}\n",
        "for key, val in recommended_dict.items():\n",
        "    print(key, ':', val)"
      ]
    },
    {
      "cell_type": "markdown",
      "id": "a6f58a3f-8de9-443b-92a2-29a2c162e9d0",
      "metadata": {
        "id": "a6f58a3f-8de9-443b-92a2-29a2c162e9d0"
      },
      "source": [
        "## Evaluasi"
      ]
    },
    {
      "cell_type": "markdown",
      "id": "39a959f2",
      "metadata": {
        "id": "39a959f2"
      },
      "source": [
        "#### 1. Content Based Filtering\n",
        "\n",
        "Untuk mengukur performa model rekomendasi berbasi konten, digunakanlah metrik berupa presisi yang dihitung dengan cara membagi jumlah prediksi yang tepat terhadap seluruh seluruh prediksi yang salah maupun tepat. Berikut merupakan rumus dan ilustrasi dari metrik presisi, khususnya dalam kasus ini.\n",
        "\n",
        "<img src=\"https://user-images.githubusercontent.com/61647791/165103309-26b85e6c-3fce-4851-9442-75d92c565d60.png\" width=500>\n",
        "\n",
        "\n",
        "Dikarenakan terdapat lebih dari satu genre dalam satu anime, skor dihitung berdasarkan rata-rata presisi kecocokan masing-masing genre dalam anime yang telah ditonton terhadap masing-masing genre pada anime yang direkomendasikan.\n",
        "\n",
        "<img src=\"https://user-images.githubusercontent.com/61647791/165105550-a7e97667-4ea2-4ac0-83ee-bb87901c6099.png\" width=500>\n",
        "\n",
        "Berikut merupakan skor presisi sistem rekomendasi berbasis konten, dalam hal ini menggunakan anime Fullmetal Alchemist.\n",
        "\n",
        "<img src=\"https://user-images.githubusercontent.com/61647791/165108457-99488a1d-6a1d-4d29-a71b-2bfd81e36ab3.png\" >"
      ]
    },
    {
      "cell_type": "markdown",
      "id": "4b87af35",
      "metadata": {
        "id": "4b87af35"
      },
      "source": [
        "#### 2. Collaborative Filtering\n",
        "\n",
        "Performa model rekomendasi collaborative filtering yang menggunakan deep learning diukur menggunakan metrik root mean square error (RMSE) terhadap nilai aktual dan prediksi. Berikut merupakan formula RMSE yang digunakan:\n",
        "\n",
        "<img src=\"https://media.geeksforgeeks.org/wp-content/uploads/20200622171741/RMSE1.jpg\" >\n",
        "\n",
        "Dengan memplotkan skor RMSE pada saat pelatihan dan validasi di setiap epoch, diperoleh grafik performa model rekomendasi collaborative filtering berbasis deep learning seperti di bawah ini."
      ]
    },
    {
      "cell_type": "code",
      "execution_count": null,
      "id": "7e895ce7-1738-48fd-8e36-8889cb22cda8",
      "metadata": {
        "id": "7e895ce7-1738-48fd-8e36-8889cb22cda8",
        "colab": {
          "base_uri": "https://localhost:8080/",
          "height": 404
        },
        "outputId": "e3d590c8-5261-4f2c-edd4-72ddb55231ee"
      },
      "outputs": [
        {
          "output_type": "display_data",
          "data": {
            "text/plain": [
              "<Figure size 864x432 with 1 Axes>"
            ],
            "image/png": "[encoded data removed]"
          },
          "metadata": {
            "needs_background": "light"
          }
        }
      ],
      "source": [
        "#evaluasi model\n",
        "\n",
        "plt.figure(figsize=(12,6))\n",
        "plt.plot(history.history['root_mean_squared_error'])\n",
        "plt.plot(history.history['val_root_mean_squared_error'])\n",
        "plt.title('Performa Model berdasarkan Root Mean Square Error')\n",
        "plt.ylabel('RMSE')\n",
        "plt.xlabel('epoch')\n",
        "plt.legend(['train', 'test'], loc='upper left')\n",
        "plt.show()"
      ]
    },
    {
      "cell_type": "markdown",
      "source": [
        "RMSE yang diperoleh pada saat pelatihan maupun validasi di epoch terakhir berturut-turut sebesar 0.2700 dan _0.2698. Eror ini tergolong rendah sehingga model dikatakan layak."
      ],
      "metadata": {
        "id": "KwhtiEIY6G9e"
      },
      "id": "KwhtiEIY6G9e"
    },
    {
      "cell_type": "markdown",
      "id": "552d4dd1-8f84-4bc5-b293-340f0af4c813",
      "metadata": {
        "id": "552d4dd1-8f84-4bc5-b293-340f0af4c813"
      },
      "source": [
        "## Daftar Pustaka\n",
        "\n",
        "**Paper:**\n",
        "\n",
        "Lops, P., de Gemmis, M. and Semeraro, G. (2010), \"Content-based Recommender Systems: State of the Art and Trends\", Recommender Systems Handbook, pp. 73-105.\n",
        "\n",
        "**Website:**\n",
        "\n",
        "Gulati, V. (2022), \"Top 10 Countries where Anime is Most Popular and Why!\", Epic Dope, available at: https://www.epicdope.com/top-10-countries-where-anime-is-most-popular-and-why/ (accessed 21 April 2022).\n",
        "\n",
        "https://www.dicoding.com"
      ]
    }
  ],
  "metadata": {
    "kernelspec": {
      "display_name": "Python 3 (ipykernel)",
      "language": "python",
      "name": "python3"
    },
    "language_info": {
      "codemirror_mode": {
        "name": "ipython",
        "version": 3
      },
      "file_extension": ".py",
      "mimetype": "text/x-python",
      "name": "python",
      "nbconvert_exporter": "python",
      "pygments_lexer": "ipython3",
      "version": "3.7.12"
    },
    "colab": {
      "name": "Recommendation System.ipynb",
      "provenance": [],
      "collapsed_sections": []
    },
    "accelerator": "TPU"
  },
  "nbformat": 4,
  "nbformat_minor": 5
}